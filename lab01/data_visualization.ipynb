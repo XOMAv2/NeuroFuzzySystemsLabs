{
 "cells": [
  {
   "cell_type": "markdown",
   "id": "b30385f0",
   "metadata": {},
   "source": [
    "# Датасет\n",
    "\n",
    "**Heart Attack Analysis & Prediction Dataset**\n",
    "\n",
    "A dataset for heart attack classification\n",
    "\n",
    "[Ссылка на kaggle](https://www.kaggle.com/rashikrahmanpritom/heart-attack-analysis-prediction-dataset)"
   ]
  }
 ],
 "metadata": {
  "kernelspec": {
   "display_name": "Python 3",
   "language": "python",
   "name": "python3"
  },
  "language_info": {
   "codemirror_mode": {
    "name": "ipython",
    "version": 3
   },
   "file_extension": ".py",
   "mimetype": "text/x-python",
   "name": "python",
   "nbconvert_exporter": "python",
   "pygments_lexer": "ipython3",
   "version": "3.8.2"
  }
 },
 "nbformat": 4,
 "nbformat_minor": 5
}
