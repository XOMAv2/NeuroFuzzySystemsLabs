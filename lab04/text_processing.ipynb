{
 "cells": [
  {
   "cell_type": "markdown",
   "metadata": {},
   "source": [
    "https://www.kaggle.com/bobazooba/thousands-of-questions-about-love"
   ]
  },
  {
   "cell_type": "code",
   "execution_count": 2,
   "metadata": {},
   "outputs": [],
   "source": [
    "import os\n",
    "import re\n",
    "import nltk\n",
    "import umap\n",
    "import numpy as np\n",
    "import pandas as pd\n",
    "import seaborn as sns\n",
    "import matplotlib.pyplot as plt\n",
    "from nltk.corpus import stopwords\n",
    "from sklearn import model_selection\n",
    "import matplotlib.patches as mpatches\n",
    "from sklearn.ensemble import RandomForestClassifier\n",
    "from sklearn.linear_model import LogisticRegression\n",
    "from sklearn.metrics import classification_report\n",
    "from sklearn.feature_extraction.text import CountVectorizer\n",
    "from sklearn.feature_extraction.text import CountVectorizer, TfidfVectorizer"
   ]
  },
  {
   "cell_type": "code",
   "execution_count": 3,
   "metadata": {},
   "outputs": [
    {
     "name": "stderr",
     "output_type": "stream",
     "text": [
      "/Users/nikita/opt/anaconda3/lib/python3.8/site-packages/gensim/similarities/__init__.py:15: UserWarning: The gensim.similarities.levenshtein submodule is disabled, because the optional Levenshtein package <https://pypi.org/project/python-Levenshtein/> is unavailable. Install Levenhstein (e.g. `pip install python-Levenshtein`) to suppress this warning.\n",
      "  warnings.warn(msg)\n"
     ]
    }
   ],
   "source": [
    "import smart_open\n",
    "smart_open.open = smart_open.smart_open\n",
    "import gensim\n",
    "import gensim.downloader as gensim_api\n",
    "import multiprocessing"
   ]
  },
  {
   "cell_type": "code",
   "execution_count": 4,
   "metadata": {},
   "outputs": [
    {
     "ename": "ModuleNotFoundError",
     "evalue": "No module named 'tensorflow'",
     "output_type": "error",
     "traceback": [
      "\u001b[0;31m---------------------------------------------------------------------------\u001b[0m",
      "\u001b[0;31mModuleNotFoundError\u001b[0m                       Traceback (most recent call last)",
      "\u001b[0;32m<ipython-input-4-a8242ac16101>\u001b[0m in \u001b[0;36m<module>\u001b[0;34m\u001b[0m\n\u001b[0;32m----> 1\u001b[0;31m \u001b[0;32mfrom\u001b[0m \u001b[0mtensorflow\u001b[0m\u001b[0;34m.\u001b[0m\u001b[0mkeras\u001b[0m \u001b[0;32mimport\u001b[0m \u001b[0mmodels\u001b[0m\u001b[0;34m,\u001b[0m \u001b[0mlayers\u001b[0m\u001b[0;34m,\u001b[0m \u001b[0mpreprocessing\u001b[0m \u001b[0;32mas\u001b[0m \u001b[0mkprocessing\u001b[0m\u001b[0;34m,\u001b[0m \u001b[0mSequential\u001b[0m\u001b[0;34m\u001b[0m\u001b[0;34m\u001b[0m\u001b[0m\n\u001b[0m",
      "\u001b[0;31mModuleNotFoundError\u001b[0m: No module named 'tensorflow'"
     ]
    }
   ],
   "source": [
    "from tensorflow.keras import models, layers, preprocessing as kprocessing, Sequential"
   ]
  },
  {
   "cell_type": "markdown",
   "metadata": {},
   "source": [
    "Функция для преобразования текста (удаление стоп-слов, стемминг и лемматизация):"
   ]
  },
  {
   "cell_type": "code",
   "execution_count": 5,
   "metadata": {},
   "outputs": [
    {
     "name": "stderr",
     "output_type": "stream",
     "text": [
      "[nltk_data] Downloading package wordnet to /Users/nikita/nltk_data...\n",
      "[nltk_data]   Package wordnet is already up-to-date!\n",
      "[nltk_data] Downloading package stopwords to\n",
      "[nltk_data]     /Users/nikita/nltk_data...\n",
      "[nltk_data]   Package stopwords is already up-to-date!\n"
     ]
    },
    {
     "data": {
      "text/plain": [
       "True"
      ]
     },
     "execution_count": 5,
     "metadata": {},
     "output_type": "execute_result"
    }
   ],
   "source": [
    "def normalize(text):\n",
    "    words = re.findall('[A-Za-zА-Яа-яЁё]+\\-[A-Za-zА-Яа-яЁё]+|[A-Za-zА-Яа-яЁё]+', text)\n",
    "    \n",
    "    sw = stopwords.words('english')\n",
    "    lst_text = [word for word in words if word not in sw][:501]\n",
    "    \n",
    "    # Стемминг\n",
    "    ps = nltk.stem.porter.PorterStemmer()\n",
    "    words = [ps.stem(word) for word in words]\n",
    "\n",
    "    # Лемматизация\n",
    "    # lem = nltk.stem.wordnet.WordNetLemmatizer()\n",
    "    # words = [lem.lemmatize(word) for word in words]\n",
    "\n",
    "    return \" \".join(words)\n",
    "\n",
    "nltk.download('wordnet')\n",
    "nltk.download('stopwords')"
   ]
  },
  {
   "cell_type": "code",
   "execution_count": 6,
   "metadata": {
    "scrolled": false
   },
   "outputs": [
    {
     "data": {
      "text/html": [
       "<div>\n",
       "<style scoped>\n",
       "    .dataframe tbody tr th:only-of-type {\n",
       "        vertical-align: middle;\n",
       "    }\n",
       "\n",
       "    .dataframe tbody tr th {\n",
       "        vertical-align: top;\n",
       "    }\n",
       "\n",
       "    .dataframe thead th {\n",
       "        text-align: right;\n",
       "    }\n",
       "</style>\n",
       "<table border=\"1\" class=\"dataframe\">\n",
       "  <thead>\n",
       "    <tr style=\"text-align: right;\">\n",
       "      <th></th>\n",
       "      <th>question</th>\n",
       "      <th>comment</th>\n",
       "      <th>sub_category</th>\n",
       "    </tr>\n",
       "  </thead>\n",
       "  <tbody>\n",
       "    <tr>\n",
       "      <th>0</th>\n",
       "      <td>С мужчиной не видимся</td>\n",
       "      <td>Поснакомились с мужчиной месяц назад. Интересн...</td>\n",
       "      <td>relations</td>\n",
       "    </tr>\n",
       "    <tr>\n",
       "      <th>1</th>\n",
       "      <td>30 лет для 33 летнего мужика, это очень старая...</td>\n",
       "      <td>даже если ее и не любит, а как инкубатор?</td>\n",
       "      <td>relations</td>\n",
       "    </tr>\n",
       "    <tr>\n",
       "      <th>2</th>\n",
       "      <td>Нормально ли поведение мужчины?</td>\n",
       "      <td>Нормально ли поведение мужчины,?!Написал снача...</td>\n",
       "      <td>relations</td>\n",
       "    </tr>\n",
       "    <tr>\n",
       "      <th>3</th>\n",
       "      <td>Почему один парень на работе ни с того ни с се...</td>\n",
       "      <td>При этом других не трогает и она на него тоже ...</td>\n",
       "      <td>relations</td>\n",
       "    </tr>\n",
       "    <tr>\n",
       "      <th>4</th>\n",
       "      <td>Почему женщины не могут понять одну истину...?</td>\n",
       "      <td>В последнее время часто встречаются женщины, к...</td>\n",
       "      <td>relations</td>\n",
       "    </tr>\n",
       "    <tr>\n",
       "      <th>...</th>\n",
       "      <td>...</td>\n",
       "      <td>...</td>\n",
       "      <td>...</td>\n",
       "    </tr>\n",
       "    <tr>\n",
       "      <th>38554</th>\n",
       "      <td>Здравствуйте! Что делать? Объясните</td>\n",
       "      <td>Короче моя подруга сегодня сказала, что я стра...</td>\n",
       "      <td>friendship</td>\n",
       "    </tr>\n",
       "    <tr>\n",
       "      <th>38555</th>\n",
       "      <td>Как понять нравлюсь ли я парню?</td>\n",
       "      <td>Мы учимся в одной группе. Иногда общаемся... Ч...</td>\n",
       "      <td>friendship</td>\n",
       "    </tr>\n",
       "    <tr>\n",
       "      <th>38556</th>\n",
       "      <td>есть привычка отбирать людей по статусу и поло...</td>\n",
       "      <td>как бы сказать, мне приятно общаться с богатым...</td>\n",
       "      <td>friendship</td>\n",
       "    </tr>\n",
       "    <tr>\n",
       "      <th>38557</th>\n",
       "      <td>Как назвать человека, который помогает, даде е...</td>\n",
       "      <td>Не согу вспомнить слово, вот ситуация, тебе ну...</td>\n",
       "      <td>friendship</td>\n",
       "    </tr>\n",
       "    <tr>\n",
       "      <th>38558</th>\n",
       "      <td>у меня были друзья они оказалась последними св...</td>\n",
       "      <td>подсознательно думаю о них как забыть их?</td>\n",
       "      <td>friendship</td>\n",
       "    </tr>\n",
       "  </tbody>\n",
       "</table>\n",
       "<p>38559 rows × 3 columns</p>\n",
       "</div>"
      ],
      "text/plain": [
       "                                                question  \\\n",
       "0                                  С мужчиной не видимся   \n",
       "1      30 лет для 33 летнего мужика, это очень старая...   \n",
       "2                        Нормально ли поведение мужчины?   \n",
       "3      Почему один парень на работе ни с того ни с се...   \n",
       "4         Почему женщины не могут понять одну истину...?   \n",
       "...                                                  ...   \n",
       "38554                Здравствуйте! Что делать? Объясните   \n",
       "38555                    Как понять нравлюсь ли я парню?   \n",
       "38556  есть привычка отбирать людей по статусу и поло...   \n",
       "38557  Как назвать человека, который помогает, даде е...   \n",
       "38558  у меня были друзья они оказалась последними св...   \n",
       "\n",
       "                                                 comment sub_category  \n",
       "0      Поснакомились с мужчиной месяц назад. Интересн...    relations  \n",
       "1              даже если ее и не любит, а как инкубатор?    relations  \n",
       "2      Нормально ли поведение мужчины,?!Написал снача...    relations  \n",
       "3      При этом других не трогает и она на него тоже ...    relations  \n",
       "4      В последнее время часто встречаются женщины, к...    relations  \n",
       "...                                                  ...          ...  \n",
       "38554  Короче моя подруга сегодня сказала, что я стра...   friendship  \n",
       "38555  Мы учимся в одной группе. Иногда общаемся... Ч...   friendship  \n",
       "38556  как бы сказать, мне приятно общаться с богатым...   friendship  \n",
       "38557  Не согу вспомнить слово, вот ситуация, тебе ну...   friendship  \n",
       "38558          подсознательно думаю о них как забыть их?   friendship  \n",
       "\n",
       "[38559 rows x 3 columns]"
      ]
     },
     "execution_count": 6,
     "metadata": {},
     "output_type": "execute_result"
    }
   ],
   "source": [
    "love = pd.read_json(\"../resources/love.jsonl\", lines=True)[['question', 'comment', 'sub_category']]\n",
    "#love[\"text\"] = love[\"question\"] + love[\"comment\"]\n",
    "#love['text'] = love[['question', 'comment']].agg(' '.join, axis=1)\n",
    "love = love.replace(\"\", float(\"NaN\")).dropna().drop_duplicates(ignore_index=True)\n",
    "love"
   ]
  },
  {
   "cell_type": "code",
   "execution_count": 7,
   "metadata": {},
   "outputs": [
    {
     "data": {
      "text/plain": [
       "array(['relations', 'love_other', 'loving', 'divorsing', 'dating',\n",
       "       'friendship'], dtype=object)"
      ]
     },
     "execution_count": 7,
     "metadata": {},
     "output_type": "execute_result"
    }
   ],
   "source": [
    "love['sub_category'].unique()"
   ]
  },
  {
   "cell_type": "code",
   "execution_count": 8,
   "metadata": {
    "scrolled": false
   },
   "outputs": [
    {
     "data": {
      "text/html": [
       "<div>\n",
       "<style scoped>\n",
       "    .dataframe tbody tr th:only-of-type {\n",
       "        vertical-align: middle;\n",
       "    }\n",
       "\n",
       "    .dataframe tbody tr th {\n",
       "        vertical-align: top;\n",
       "    }\n",
       "\n",
       "    .dataframe thead th {\n",
       "        text-align: right;\n",
       "    }\n",
       "</style>\n",
       "<table border=\"1\" class=\"dataframe\">\n",
       "  <thead>\n",
       "    <tr style=\"text-align: right;\">\n",
       "      <th></th>\n",
       "      <th>question</th>\n",
       "      <th>comment</th>\n",
       "      <th>sub_category</th>\n",
       "      <th>cleaned</th>\n",
       "    </tr>\n",
       "  </thead>\n",
       "  <tbody>\n",
       "    <tr>\n",
       "      <th>0</th>\n",
       "      <td>С мужчиной не видимся</td>\n",
       "      <td>Поснакомились с мужчиной месяц назад. Интересн...</td>\n",
       "      <td>relations</td>\n",
       "      <td>поснакомились с мужчиной месяц назад интересно...</td>\n",
       "    </tr>\n",
       "    <tr>\n",
       "      <th>1</th>\n",
       "      <td>30 лет для 33 летнего мужика, это очень старая...</td>\n",
       "      <td>даже если ее и не любит, а как инкубатор?</td>\n",
       "      <td>relations</td>\n",
       "      <td>даже если ее и не любит а как инкубатор</td>\n",
       "    </tr>\n",
       "    <tr>\n",
       "      <th>2</th>\n",
       "      <td>Нормально ли поведение мужчины?</td>\n",
       "      <td>Нормально ли поведение мужчины,?!Написал снача...</td>\n",
       "      <td>relations</td>\n",
       "      <td>нормально ли поведение мужчины написал сначала...</td>\n",
       "    </tr>\n",
       "    <tr>\n",
       "      <th>3</th>\n",
       "      <td>Почему один парень на работе ни с того ни с се...</td>\n",
       "      <td>При этом других не трогает и она на него тоже ...</td>\n",
       "      <td>relations</td>\n",
       "      <td>при этом других не трогает и она на него тоже ...</td>\n",
       "    </tr>\n",
       "    <tr>\n",
       "      <th>4</th>\n",
       "      <td>Почему женщины не могут понять одну истину...?</td>\n",
       "      <td>В последнее время часто встречаются женщины, к...</td>\n",
       "      <td>relations</td>\n",
       "      <td>в последнее время часто встречаются женщины ко...</td>\n",
       "    </tr>\n",
       "    <tr>\n",
       "      <th>...</th>\n",
       "      <td>...</td>\n",
       "      <td>...</td>\n",
       "      <td>...</td>\n",
       "      <td>...</td>\n",
       "    </tr>\n",
       "    <tr>\n",
       "      <th>38554</th>\n",
       "      <td>Здравствуйте! Что делать? Объясните</td>\n",
       "      <td>Короче моя подруга сегодня сказала, что я стра...</td>\n",
       "      <td>friendship</td>\n",
       "      <td>короче моя подруга сегодня сказала что я стран...</td>\n",
       "    </tr>\n",
       "    <tr>\n",
       "      <th>38555</th>\n",
       "      <td>Как понять нравлюсь ли я парню?</td>\n",
       "      <td>Мы учимся в одной группе. Иногда общаемся... Ч...</td>\n",
       "      <td>friendship</td>\n",
       "      <td>мы учимся в одной группе иногда общаемся часто...</td>\n",
       "    </tr>\n",
       "    <tr>\n",
       "      <th>38556</th>\n",
       "      <td>есть привычка отбирать людей по статусу и поло...</td>\n",
       "      <td>как бы сказать, мне приятно общаться с богатым...</td>\n",
       "      <td>friendship</td>\n",
       "      <td>как бы сказать мне приятно общаться с богатыми...</td>\n",
       "    </tr>\n",
       "    <tr>\n",
       "      <th>38557</th>\n",
       "      <td>Как назвать человека, который помогает, даде е...</td>\n",
       "      <td>Не согу вспомнить слово, вот ситуация, тебе ну...</td>\n",
       "      <td>friendship</td>\n",
       "      <td>не согу вспомнить слово вот ситуация тебе нужн...</td>\n",
       "    </tr>\n",
       "    <tr>\n",
       "      <th>38558</th>\n",
       "      <td>у меня были друзья они оказалась последними св...</td>\n",
       "      <td>подсознательно думаю о них как забыть их?</td>\n",
       "      <td>friendship</td>\n",
       "      <td>подсознательно думаю о них как забыть их</td>\n",
       "    </tr>\n",
       "  </tbody>\n",
       "</table>\n",
       "<p>38559 rows × 4 columns</p>\n",
       "</div>"
      ],
      "text/plain": [
       "                                                question  \\\n",
       "0                                  С мужчиной не видимся   \n",
       "1      30 лет для 33 летнего мужика, это очень старая...   \n",
       "2                        Нормально ли поведение мужчины?   \n",
       "3      Почему один парень на работе ни с того ни с се...   \n",
       "4         Почему женщины не могут понять одну истину...?   \n",
       "...                                                  ...   \n",
       "38554                Здравствуйте! Что делать? Объясните   \n",
       "38555                    Как понять нравлюсь ли я парню?   \n",
       "38556  есть привычка отбирать людей по статусу и поло...   \n",
       "38557  Как назвать человека, который помогает, даде е...   \n",
       "38558  у меня были друзья они оказалась последними св...   \n",
       "\n",
       "                                                 comment sub_category  \\\n",
       "0      Поснакомились с мужчиной месяц назад. Интересн...    relations   \n",
       "1              даже если ее и не любит, а как инкубатор?    relations   \n",
       "2      Нормально ли поведение мужчины,?!Написал снача...    relations   \n",
       "3      При этом других не трогает и она на него тоже ...    relations   \n",
       "4      В последнее время часто встречаются женщины, к...    relations   \n",
       "...                                                  ...          ...   \n",
       "38554  Короче моя подруга сегодня сказала, что я стра...   friendship   \n",
       "38555  Мы учимся в одной группе. Иногда общаемся... Ч...   friendship   \n",
       "38556  как бы сказать, мне приятно общаться с богатым...   friendship   \n",
       "38557  Не согу вспомнить слово, вот ситуация, тебе ну...   friendship   \n",
       "38558          подсознательно думаю о них как забыть их?   friendship   \n",
       "\n",
       "                                                 cleaned  \n",
       "0      поснакомились с мужчиной месяц назад интересно...  \n",
       "1                даже если ее и не любит а как инкубатор  \n",
       "2      нормально ли поведение мужчины написал сначала...  \n",
       "3      при этом других не трогает и она на него тоже ...  \n",
       "4      в последнее время часто встречаются женщины ко...  \n",
       "...                                                  ...  \n",
       "38554  короче моя подруга сегодня сказала что я стран...  \n",
       "38555  мы учимся в одной группе иногда общаемся часто...  \n",
       "38556  как бы сказать мне приятно общаться с богатыми...  \n",
       "38557  не согу вспомнить слово вот ситуация тебе нужн...  \n",
       "38558           подсознательно думаю о них как забыть их  \n",
       "\n",
       "[38559 rows x 4 columns]"
      ]
     },
     "execution_count": 8,
     "metadata": {},
     "output_type": "execute_result"
    }
   ],
   "source": [
    "love[\"cleaned\"] = love.comment.apply(lambda text: normalize(text))\n",
    "love"
   ]
  },
  {
   "cell_type": "code",
   "execution_count": 11,
   "metadata": {},
   "outputs": [],
   "source": [
    "train, test = model_selection.train_test_split(love, test_size=0.2)"
   ]
  },
  {
   "cell_type": "code",
   "execution_count": 12,
   "metadata": {},
   "outputs": [],
   "source": [
    "corpus = train[\"cleaned\"]\n",
    "\n",
    "# Сформируем список юниграмм\n",
    "lst_corpus = []\n",
    "for string in corpus:\n",
    "   lst_words = string.split()\n",
    "   lst_grams = [\" \".join(lst_words[i:i+1]) \n",
    "               for i in range(0, len(lst_words), 1)]\n",
    "   lst_corpus.append(lst_grams)"
   ]
  },
  {
   "cell_type": "markdown",
   "metadata": {},
   "source": [
    "Обучаем модель Word2Vec для построения вложений слов:"
   ]
  },
  {
   "cell_type": "code",
   "execution_count": 13,
   "metadata": {},
   "outputs": [],
   "source": [
    "nlp = gensim.models.word2vec.Word2Vec(lst_corpus, vector_size=20,   \n",
    "            window=8, min_count=1, sg=1, epochs=10)"
   ]
  },
  {
   "cell_type": "code",
   "execution_count": 36,
   "metadata": {},
   "outputs": [
    {
     "data": {
      "text/plain": [
       "89842"
      ]
     },
     "execution_count": 36,
     "metadata": {},
     "output_type": "execute_result"
    }
   ],
   "source": [
    "len(nlp.wv)"
   ]
  },
  {
   "cell_type": "markdown",
   "metadata": {},
   "source": [
    "Преобразование текста в вектор чисел на основе построенных с помощью word2Vec вложений слов:"
   ]
  },
  {
   "cell_type": "code",
   "execution_count": 37,
   "metadata": {},
   "outputs": [],
   "source": [
    "def text_to_vec(text):\n",
    "    words = text.split(\" \")\n",
    "    vec = [nlp.wv[word] for word in words if word in nlp.wv]\n",
    "    return np.asarray(vec).reshape(-1)"
   ]
  },
  {
   "cell_type": "code",
   "execution_count": 38,
   "metadata": {},
   "outputs": [],
   "source": [
    "love[\"vec\"] = love.cleaned.apply(lambda text: text_to_vec(text))"
   ]
  },
  {
   "cell_type": "code",
   "execution_count": 39,
   "metadata": {
    "scrolled": false
   },
   "outputs": [
    {
     "data": {
      "text/html": [
       "<div>\n",
       "<style scoped>\n",
       "    .dataframe tbody tr th:only-of-type {\n",
       "        vertical-align: middle;\n",
       "    }\n",
       "\n",
       "    .dataframe tbody tr th {\n",
       "        vertical-align: top;\n",
       "    }\n",
       "\n",
       "    .dataframe thead th {\n",
       "        text-align: right;\n",
       "    }\n",
       "</style>\n",
       "<table border=\"1\" class=\"dataframe\">\n",
       "  <thead>\n",
       "    <tr style=\"text-align: right;\">\n",
       "      <th></th>\n",
       "      <th>question</th>\n",
       "      <th>comment</th>\n",
       "      <th>sub_category</th>\n",
       "      <th>cleaned</th>\n",
       "      <th>vec</th>\n",
       "    </tr>\n",
       "  </thead>\n",
       "  <tbody>\n",
       "    <tr>\n",
       "      <th>0</th>\n",
       "      <td>С мужчиной не видимся</td>\n",
       "      <td>Поснакомились с мужчиной месяц назад. Интересн...</td>\n",
       "      <td>relations</td>\n",
       "      <td>поснакомились с мужчиной месяц назад интересно...</td>\n",
       "      <td>[-0.17903478, 0.10804388, 0.06980011, 0.161676...</td>\n",
       "    </tr>\n",
       "    <tr>\n",
       "      <th>1</th>\n",
       "      <td>30 лет для 33 летнего мужика, это очень старая...</td>\n",
       "      <td>даже если ее и не любит, а как инкубатор?</td>\n",
       "      <td>relations</td>\n",
       "      <td>даже если ее и не любит а как инкубатор</td>\n",
       "      <td>[-0.39792132, -0.16541009, 0.5258626, 0.222253...</td>\n",
       "    </tr>\n",
       "    <tr>\n",
       "      <th>2</th>\n",
       "      <td>Нормально ли поведение мужчины?</td>\n",
       "      <td>Нормально ли поведение мужчины,?!Написал снача...</td>\n",
       "      <td>relations</td>\n",
       "      <td>нормально ли поведение мужчины написал сначала...</td>\n",
       "      <td>[-0.3345897, 0.04210544, 0.68189746, 0.7512285...</td>\n",
       "    </tr>\n",
       "    <tr>\n",
       "      <th>3</th>\n",
       "      <td>Почему один парень на работе ни с того ни с се...</td>\n",
       "      <td>При этом других не трогает и она на него тоже ...</td>\n",
       "      <td>relations</td>\n",
       "      <td>при этом других не трогает и она на него тоже ...</td>\n",
       "      <td>[-0.42846337, -0.41930965, 0.99574304, -0.6748...</td>\n",
       "    </tr>\n",
       "    <tr>\n",
       "      <th>4</th>\n",
       "      <td>Почему женщины не могут понять одну истину...?</td>\n",
       "      <td>В последнее время часто встречаются женщины, к...</td>\n",
       "      <td>relations</td>\n",
       "      <td>в последнее время часто встречаются женщины ко...</td>\n",
       "      <td>[-0.6008906, -0.3628703, 0.6306512, 0.16436002...</td>\n",
       "    </tr>\n",
       "    <tr>\n",
       "      <th>...</th>\n",
       "      <td>...</td>\n",
       "      <td>...</td>\n",
       "      <td>...</td>\n",
       "      <td>...</td>\n",
       "      <td>...</td>\n",
       "    </tr>\n",
       "    <tr>\n",
       "      <th>38554</th>\n",
       "      <td>Здравствуйте! Что делать? Объясните</td>\n",
       "      <td>Короче моя подруга сегодня сказала, что я стра...</td>\n",
       "      <td>friendship</td>\n",
       "      <td>короче моя подруга сегодня сказала что я стран...</td>\n",
       "      <td>[-0.39797184, -0.31703982, 0.66773677, 0.24502...</td>\n",
       "    </tr>\n",
       "    <tr>\n",
       "      <th>38555</th>\n",
       "      <td>Как понять нравлюсь ли я парню?</td>\n",
       "      <td>Мы учимся в одной группе. Иногда общаемся... Ч...</td>\n",
       "      <td>friendship</td>\n",
       "      <td>мы учимся в одной группе иногда общаемся часто...</td>\n",
       "      <td>[-0.35531196, -0.16346292, 0.67750835, 0.59234...</td>\n",
       "    </tr>\n",
       "    <tr>\n",
       "      <th>38556</th>\n",
       "      <td>есть привычка отбирать людей по статусу и поло...</td>\n",
       "      <td>как бы сказать, мне приятно общаться с богатым...</td>\n",
       "      <td>friendship</td>\n",
       "      <td>как бы сказать мне приятно общаться с богатыми...</td>\n",
       "      <td>[-0.3479782, -0.11899534, 0.49059847, 0.277900...</td>\n",
       "    </tr>\n",
       "    <tr>\n",
       "      <th>38557</th>\n",
       "      <td>Как назвать человека, который помогает, даде е...</td>\n",
       "      <td>Не согу вспомнить слово, вот ситуация, тебе ну...</td>\n",
       "      <td>friendship</td>\n",
       "      <td>не согу вспомнить слово вот ситуация тебе нужн...</td>\n",
       "      <td>[-0.27697462, 0.165904, 0.5538932, 0.22008349,...</td>\n",
       "    </tr>\n",
       "    <tr>\n",
       "      <th>38558</th>\n",
       "      <td>у меня были друзья они оказалась последними св...</td>\n",
       "      <td>подсознательно думаю о них как забыть их?</td>\n",
       "      <td>friendship</td>\n",
       "      <td>подсознательно думаю о них как забыть их</td>\n",
       "      <td>[-0.067585416, 0.6124423, 0.32608303, 0.147517...</td>\n",
       "    </tr>\n",
       "  </tbody>\n",
       "</table>\n",
       "<p>38559 rows × 5 columns</p>\n",
       "</div>"
      ],
      "text/plain": [
       "                                                question  \\\n",
       "0                                  С мужчиной не видимся   \n",
       "1      30 лет для 33 летнего мужика, это очень старая...   \n",
       "2                        Нормально ли поведение мужчины?   \n",
       "3      Почему один парень на работе ни с того ни с се...   \n",
       "4         Почему женщины не могут понять одну истину...?   \n",
       "...                                                  ...   \n",
       "38554                Здравствуйте! Что делать? Объясните   \n",
       "38555                    Как понять нравлюсь ли я парню?   \n",
       "38556  есть привычка отбирать людей по статусу и поло...   \n",
       "38557  Как назвать человека, который помогает, даде е...   \n",
       "38558  у меня были друзья они оказалась последними св...   \n",
       "\n",
       "                                                 comment sub_category  \\\n",
       "0      Поснакомились с мужчиной месяц назад. Интересн...    relations   \n",
       "1              даже если ее и не любит, а как инкубатор?    relations   \n",
       "2      Нормально ли поведение мужчины,?!Написал снача...    relations   \n",
       "3      При этом других не трогает и она на него тоже ...    relations   \n",
       "4      В последнее время часто встречаются женщины, к...    relations   \n",
       "...                                                  ...          ...   \n",
       "38554  Короче моя подруга сегодня сказала, что я стра...   friendship   \n",
       "38555  Мы учимся в одной группе. Иногда общаемся... Ч...   friendship   \n",
       "38556  как бы сказать, мне приятно общаться с богатым...   friendship   \n",
       "38557  Не согу вспомнить слово, вот ситуация, тебе ну...   friendship   \n",
       "38558          подсознательно думаю о них как забыть их?   friendship   \n",
       "\n",
       "                                                 cleaned  \\\n",
       "0      поснакомились с мужчиной месяц назад интересно...   \n",
       "1                даже если ее и не любит а как инкубатор   \n",
       "2      нормально ли поведение мужчины написал сначала...   \n",
       "3      при этом других не трогает и она на него тоже ...   \n",
       "4      в последнее время часто встречаются женщины ко...   \n",
       "...                                                  ...   \n",
       "38554  короче моя подруга сегодня сказала что я стран...   \n",
       "38555  мы учимся в одной группе иногда общаемся часто...   \n",
       "38556  как бы сказать мне приятно общаться с богатыми...   \n",
       "38557  не согу вспомнить слово вот ситуация тебе нужн...   \n",
       "38558           подсознательно думаю о них как забыть их   \n",
       "\n",
       "                                                     vec  \n",
       "0      [-0.17903478, 0.10804388, 0.06980011, 0.161676...  \n",
       "1      [-0.39792132, -0.16541009, 0.5258626, 0.222253...  \n",
       "2      [-0.3345897, 0.04210544, 0.68189746, 0.7512285...  \n",
       "3      [-0.42846337, -0.41930965, 0.99574304, -0.6748...  \n",
       "4      [-0.6008906, -0.3628703, 0.6306512, 0.16436002...  \n",
       "...                                                  ...  \n",
       "38554  [-0.39797184, -0.31703982, 0.66773677, 0.24502...  \n",
       "38555  [-0.35531196, -0.16346292, 0.67750835, 0.59234...  \n",
       "38556  [-0.3479782, -0.11899534, 0.49059847, 0.277900...  \n",
       "38557  [-0.27697462, 0.165904, 0.5538932, 0.22008349,...  \n",
       "38558  [-0.067585416, 0.6124423, 0.32608303, 0.147517...  \n",
       "\n",
       "[38559 rows x 5 columns]"
      ]
     },
     "execution_count": 39,
     "metadata": {},
     "output_type": "execute_result"
    }
   ],
   "source": [
    "love"
   ]
  },
  {
   "cell_type": "markdown",
   "metadata": {},
   "source": [
    "Выравниваем все векторизованные тексты по длине:"
   ]
  },
  {
   "cell_type": "code",
   "execution_count": 40,
   "metadata": {},
   "outputs": [
    {
     "data": {
      "text/plain": [
       "14360"
      ]
     },
     "execution_count": 40,
     "metadata": {},
     "output_type": "execute_result"
    }
   ],
   "source": [
    "max_words = max(love.vec.apply(lambda vec: len(vec)))\n",
    "max_words"
   ]
  },
  {
   "cell_type": "code",
   "execution_count": 43,
   "metadata": {},
   "outputs": [
    {
     "ename": "NameError",
     "evalue": "name 'kprocessing' is not defined",
     "output_type": "error",
     "traceback": [
      "\u001b[0;31m---------------------------------------------------------------------------\u001b[0m",
      "\u001b[0;31mNameError\u001b[0m                                 Traceback (most recent call last)",
      "\u001b[0;32m<ipython-input-43-c4ff98def12a>\u001b[0m in \u001b[0;36m<module>\u001b[0;34m\u001b[0m\n\u001b[0;32m----> 1\u001b[0;31m pad_data = kprocessing.sequence.pad_sequences(\n\u001b[0m\u001b[1;32m      2\u001b[0m     \u001b[0mlove\u001b[0m\u001b[0;34m.\u001b[0m\u001b[0mvec\u001b[0m\u001b[0;34m,\u001b[0m\u001b[0;34m\u001b[0m\u001b[0;34m\u001b[0m\u001b[0m\n\u001b[1;32m      3\u001b[0m     \u001b[0mmaxlen\u001b[0m\u001b[0;34m=\u001b[0m\u001b[0mmax_words\u001b[0m\u001b[0;34m,\u001b[0m\u001b[0;34m\u001b[0m\u001b[0;34m\u001b[0m\u001b[0m\n\u001b[1;32m      4\u001b[0m     \u001b[0mpadding\u001b[0m\u001b[0;34m=\u001b[0m\u001b[0;34m\"post\"\u001b[0m\u001b[0;34m,\u001b[0m\u001b[0;34m\u001b[0m\u001b[0;34m\u001b[0m\u001b[0m\n\u001b[1;32m      5\u001b[0m     \u001b[0mtruncating\u001b[0m\u001b[0;34m=\u001b[0m\u001b[0;34m\"post\"\u001b[0m\u001b[0;34m,\u001b[0m\u001b[0;34m\u001b[0m\u001b[0;34m\u001b[0m\u001b[0m\n",
      "\u001b[0;31mNameError\u001b[0m: name 'kprocessing' is not defined"
     ]
    }
   ],
   "source": [
    "pad_data = kprocessing.sequence.pad_sequences(\n",
    "    love.vec, \n",
    "    maxlen=max_words, \n",
    "    padding=\"post\", \n",
    "    truncating=\"post\",\n",
    "    dtype=\"float32\"\n",
    ")"
   ]
  },
  {
   "cell_type": "markdown",
   "metadata": {},
   "source": [
    "Проецируем тексты на двумерное пространство UMAP'ом:"
   ]
  },
  {
   "cell_type": "code",
   "execution_count": 46,
   "metadata": {},
   "outputs": [
    {
     "ename": "ValueError",
     "evalue": "setting an array element with a sequence.",
     "output_type": "error",
     "traceback": [
      "\u001b[0;31m---------------------------------------------------------------------------\u001b[0m",
      "\u001b[0;31mTypeError\u001b[0m                                 Traceback (most recent call last)",
      "\u001b[0;31mTypeError\u001b[0m: only size-1 arrays can be converted to Python scalars",
      "\nThe above exception was the direct cause of the following exception:\n",
      "\u001b[0;31mValueError\u001b[0m                                Traceback (most recent call last)",
      "\u001b[0;32m<ipython-input-46-a59c3f5c9f7d>\u001b[0m in \u001b[0;36m<module>\u001b[0;34m\u001b[0m\n\u001b[1;32m      7\u001b[0m )\n\u001b[1;32m      8\u001b[0m \u001b[0;34m\u001b[0m\u001b[0m\n\u001b[0;32m----> 9\u001b[0;31m \u001b[0mumap_result\u001b[0m \u001b[0;34m=\u001b[0m \u001b[0mfit\u001b[0m\u001b[0;34m.\u001b[0m\u001b[0mfit_transform\u001b[0m\u001b[0;34m(\u001b[0m\u001b[0mlove\u001b[0m\u001b[0;34m.\u001b[0m\u001b[0mvec\u001b[0m\u001b[0;34m)\u001b[0m\u001b[0;34m\u001b[0m\u001b[0;34m\u001b[0m\u001b[0m\n\u001b[0m",
      "\u001b[0;32m~/opt/anaconda3/lib/python3.8/site-packages/umap/umap_.py\u001b[0m in \u001b[0;36mfit_transform\u001b[0;34m(self, X, y)\u001b[0m\n\u001b[1;32m   2632\u001b[0m             \u001b[0mLocal\u001b[0m \u001b[0mradii\u001b[0m \u001b[0mof\u001b[0m \u001b[0mdata\u001b[0m \u001b[0mpoints\u001b[0m \u001b[0;32min\u001b[0m \u001b[0mthe\u001b[0m \u001b[0membedding\u001b[0m \u001b[0;34m(\u001b[0m\u001b[0mlog\u001b[0m\u001b[0;34m-\u001b[0m\u001b[0mtransformed\u001b[0m\u001b[0;34m)\u001b[0m\u001b[0;34m.\u001b[0m\u001b[0;34m\u001b[0m\u001b[0;34m\u001b[0m\u001b[0m\n\u001b[1;32m   2633\u001b[0m         \"\"\"\n\u001b[0;32m-> 2634\u001b[0;31m         \u001b[0mself\u001b[0m\u001b[0;34m.\u001b[0m\u001b[0mfit\u001b[0m\u001b[0;34m(\u001b[0m\u001b[0mX\u001b[0m\u001b[0;34m,\u001b[0m \u001b[0my\u001b[0m\u001b[0;34m)\u001b[0m\u001b[0;34m\u001b[0m\u001b[0;34m\u001b[0m\u001b[0m\n\u001b[0m\u001b[1;32m   2635\u001b[0m         \u001b[0;32mif\u001b[0m \u001b[0mself\u001b[0m\u001b[0;34m.\u001b[0m\u001b[0mtransform_mode\u001b[0m \u001b[0;34m==\u001b[0m \u001b[0;34m\"embedding\"\u001b[0m\u001b[0;34m:\u001b[0m\u001b[0;34m\u001b[0m\u001b[0;34m\u001b[0m\u001b[0m\n\u001b[1;32m   2636\u001b[0m             \u001b[0;32mif\u001b[0m \u001b[0mself\u001b[0m\u001b[0;34m.\u001b[0m\u001b[0moutput_dens\u001b[0m\u001b[0;34m:\u001b[0m\u001b[0;34m\u001b[0m\u001b[0;34m\u001b[0m\u001b[0m\n",
      "\u001b[0;32m~/opt/anaconda3/lib/python3.8/site-packages/umap/umap_.py\u001b[0m in \u001b[0;36mfit\u001b[0;34m(self, X, y)\u001b[0m\n\u001b[1;32m   2140\u001b[0m         \"\"\"\n\u001b[1;32m   2141\u001b[0m \u001b[0;34m\u001b[0m\u001b[0m\n\u001b[0;32m-> 2142\u001b[0;31m         \u001b[0mX\u001b[0m \u001b[0;34m=\u001b[0m \u001b[0mcheck_array\u001b[0m\u001b[0;34m(\u001b[0m\u001b[0mX\u001b[0m\u001b[0;34m,\u001b[0m \u001b[0mdtype\u001b[0m\u001b[0;34m=\u001b[0m\u001b[0mnp\u001b[0m\u001b[0;34m.\u001b[0m\u001b[0mfloat32\u001b[0m\u001b[0;34m,\u001b[0m \u001b[0maccept_sparse\u001b[0m\u001b[0;34m=\u001b[0m\u001b[0;34m\"csr\"\u001b[0m\u001b[0;34m,\u001b[0m \u001b[0morder\u001b[0m\u001b[0;34m=\u001b[0m\u001b[0;34m\"C\"\u001b[0m\u001b[0;34m)\u001b[0m\u001b[0;34m\u001b[0m\u001b[0;34m\u001b[0m\u001b[0m\n\u001b[0m\u001b[1;32m   2143\u001b[0m         \u001b[0mself\u001b[0m\u001b[0;34m.\u001b[0m\u001b[0m_raw_data\u001b[0m \u001b[0;34m=\u001b[0m \u001b[0mX\u001b[0m\u001b[0;34m\u001b[0m\u001b[0;34m\u001b[0m\u001b[0m\n\u001b[1;32m   2144\u001b[0m \u001b[0;34m\u001b[0m\u001b[0m\n",
      "\u001b[0;32m~/opt/anaconda3/lib/python3.8/site-packages/sklearn/utils/validation.py\u001b[0m in \u001b[0;36minner_f\u001b[0;34m(*args, **kwargs)\u001b[0m\n\u001b[1;32m     61\u001b[0m             \u001b[0mextra_args\u001b[0m \u001b[0;34m=\u001b[0m \u001b[0mlen\u001b[0m\u001b[0;34m(\u001b[0m\u001b[0margs\u001b[0m\u001b[0;34m)\u001b[0m \u001b[0;34m-\u001b[0m \u001b[0mlen\u001b[0m\u001b[0;34m(\u001b[0m\u001b[0mall_args\u001b[0m\u001b[0;34m)\u001b[0m\u001b[0;34m\u001b[0m\u001b[0;34m\u001b[0m\u001b[0m\n\u001b[1;32m     62\u001b[0m             \u001b[0;32mif\u001b[0m \u001b[0mextra_args\u001b[0m \u001b[0;34m<=\u001b[0m \u001b[0;36m0\u001b[0m\u001b[0;34m:\u001b[0m\u001b[0;34m\u001b[0m\u001b[0;34m\u001b[0m\u001b[0m\n\u001b[0;32m---> 63\u001b[0;31m                 \u001b[0;32mreturn\u001b[0m \u001b[0mf\u001b[0m\u001b[0;34m(\u001b[0m\u001b[0;34m*\u001b[0m\u001b[0margs\u001b[0m\u001b[0;34m,\u001b[0m \u001b[0;34m**\u001b[0m\u001b[0mkwargs\u001b[0m\u001b[0;34m)\u001b[0m\u001b[0;34m\u001b[0m\u001b[0;34m\u001b[0m\u001b[0m\n\u001b[0m\u001b[1;32m     64\u001b[0m \u001b[0;34m\u001b[0m\u001b[0m\n\u001b[1;32m     65\u001b[0m             \u001b[0;31m# extra_args > 0\u001b[0m\u001b[0;34m\u001b[0m\u001b[0;34m\u001b[0m\u001b[0;34m\u001b[0m\u001b[0m\n",
      "\u001b[0;32m~/opt/anaconda3/lib/python3.8/site-packages/sklearn/utils/validation.py\u001b[0m in \u001b[0;36mcheck_array\u001b[0;34m(array, accept_sparse, accept_large_sparse, dtype, order, copy, force_all_finite, ensure_2d, allow_nd, ensure_min_samples, ensure_min_features, estimator)\u001b[0m\n\u001b[1;32m    614\u001b[0m                     \u001b[0marray\u001b[0m \u001b[0;34m=\u001b[0m \u001b[0marray\u001b[0m\u001b[0;34m.\u001b[0m\u001b[0mastype\u001b[0m\u001b[0;34m(\u001b[0m\u001b[0mdtype\u001b[0m\u001b[0;34m,\u001b[0m \u001b[0mcasting\u001b[0m\u001b[0;34m=\u001b[0m\u001b[0;34m\"unsafe\"\u001b[0m\u001b[0;34m,\u001b[0m \u001b[0mcopy\u001b[0m\u001b[0;34m=\u001b[0m\u001b[0;32mFalse\u001b[0m\u001b[0;34m)\u001b[0m\u001b[0;34m\u001b[0m\u001b[0;34m\u001b[0m\u001b[0m\n\u001b[1;32m    615\u001b[0m                 \u001b[0;32melse\u001b[0m\u001b[0;34m:\u001b[0m\u001b[0;34m\u001b[0m\u001b[0;34m\u001b[0m\u001b[0m\n\u001b[0;32m--> 616\u001b[0;31m                     \u001b[0marray\u001b[0m \u001b[0;34m=\u001b[0m \u001b[0mnp\u001b[0m\u001b[0;34m.\u001b[0m\u001b[0masarray\u001b[0m\u001b[0;34m(\u001b[0m\u001b[0marray\u001b[0m\u001b[0;34m,\u001b[0m \u001b[0morder\u001b[0m\u001b[0;34m=\u001b[0m\u001b[0morder\u001b[0m\u001b[0;34m,\u001b[0m \u001b[0mdtype\u001b[0m\u001b[0;34m=\u001b[0m\u001b[0mdtype\u001b[0m\u001b[0;34m)\u001b[0m\u001b[0;34m\u001b[0m\u001b[0;34m\u001b[0m\u001b[0m\n\u001b[0m\u001b[1;32m    617\u001b[0m             \u001b[0;32mexcept\u001b[0m \u001b[0mComplexWarning\u001b[0m \u001b[0;32mas\u001b[0m \u001b[0mcomplex_warning\u001b[0m\u001b[0;34m:\u001b[0m\u001b[0;34m\u001b[0m\u001b[0;34m\u001b[0m\u001b[0m\n\u001b[1;32m    618\u001b[0m                 raise ValueError(\"Complex data not supported\\n\"\n",
      "\u001b[0;32m~/opt/anaconda3/lib/python3.8/site-packages/numpy/core/_asarray.py\u001b[0m in \u001b[0;36masarray\u001b[0;34m(a, dtype, order)\u001b[0m\n\u001b[1;32m     81\u001b[0m \u001b[0;34m\u001b[0m\u001b[0m\n\u001b[1;32m     82\u001b[0m     \"\"\"\n\u001b[0;32m---> 83\u001b[0;31m     \u001b[0;32mreturn\u001b[0m \u001b[0marray\u001b[0m\u001b[0;34m(\u001b[0m\u001b[0ma\u001b[0m\u001b[0;34m,\u001b[0m \u001b[0mdtype\u001b[0m\u001b[0;34m,\u001b[0m \u001b[0mcopy\u001b[0m\u001b[0;34m=\u001b[0m\u001b[0;32mFalse\u001b[0m\u001b[0;34m,\u001b[0m \u001b[0morder\u001b[0m\u001b[0;34m=\u001b[0m\u001b[0morder\u001b[0m\u001b[0;34m)\u001b[0m\u001b[0;34m\u001b[0m\u001b[0;34m\u001b[0m\u001b[0m\n\u001b[0m\u001b[1;32m     84\u001b[0m \u001b[0;34m\u001b[0m\u001b[0m\n\u001b[1;32m     85\u001b[0m \u001b[0;34m\u001b[0m\u001b[0m\n",
      "\u001b[0;32m~/opt/anaconda3/lib/python3.8/site-packages/pandas/core/series.py\u001b[0m in \u001b[0;36m__array__\u001b[0;34m(self, dtype)\u001b[0m\n\u001b[1;32m    766\u001b[0m               dtype='datetime64[ns]')\n\u001b[1;32m    767\u001b[0m         \"\"\"\n\u001b[0;32m--> 768\u001b[0;31m         \u001b[0;32mreturn\u001b[0m \u001b[0mnp\u001b[0m\u001b[0;34m.\u001b[0m\u001b[0masarray\u001b[0m\u001b[0;34m(\u001b[0m\u001b[0mself\u001b[0m\u001b[0;34m.\u001b[0m\u001b[0marray\u001b[0m\u001b[0;34m,\u001b[0m \u001b[0mdtype\u001b[0m\u001b[0;34m)\u001b[0m\u001b[0;34m\u001b[0m\u001b[0;34m\u001b[0m\u001b[0m\n\u001b[0m\u001b[1;32m    769\u001b[0m \u001b[0;34m\u001b[0m\u001b[0m\n\u001b[1;32m    770\u001b[0m     \u001b[0;31m# ----------------------------------------------------------------------\u001b[0m\u001b[0;34m\u001b[0m\u001b[0;34m\u001b[0m\u001b[0;34m\u001b[0m\u001b[0m\n",
      "\u001b[0;32m~/opt/anaconda3/lib/python3.8/site-packages/numpy/core/_asarray.py\u001b[0m in \u001b[0;36masarray\u001b[0;34m(a, dtype, order)\u001b[0m\n\u001b[1;32m     81\u001b[0m \u001b[0;34m\u001b[0m\u001b[0m\n\u001b[1;32m     82\u001b[0m     \"\"\"\n\u001b[0;32m---> 83\u001b[0;31m     \u001b[0;32mreturn\u001b[0m \u001b[0marray\u001b[0m\u001b[0;34m(\u001b[0m\u001b[0ma\u001b[0m\u001b[0;34m,\u001b[0m \u001b[0mdtype\u001b[0m\u001b[0;34m,\u001b[0m \u001b[0mcopy\u001b[0m\u001b[0;34m=\u001b[0m\u001b[0;32mFalse\u001b[0m\u001b[0;34m,\u001b[0m \u001b[0morder\u001b[0m\u001b[0;34m=\u001b[0m\u001b[0morder\u001b[0m\u001b[0;34m)\u001b[0m\u001b[0;34m\u001b[0m\u001b[0;34m\u001b[0m\u001b[0m\n\u001b[0m\u001b[1;32m     84\u001b[0m \u001b[0;34m\u001b[0m\u001b[0m\n\u001b[1;32m     85\u001b[0m \u001b[0;34m\u001b[0m\u001b[0m\n",
      "\u001b[0;32m~/opt/anaconda3/lib/python3.8/site-packages/pandas/core/arrays/numpy_.py\u001b[0m in \u001b[0;36m__array__\u001b[0;34m(self, dtype)\u001b[0m\n\u001b[1;32m    201\u001b[0m \u001b[0;34m\u001b[0m\u001b[0m\n\u001b[1;32m    202\u001b[0m     \u001b[0;32mdef\u001b[0m \u001b[0m__array__\u001b[0m\u001b[0;34m(\u001b[0m\u001b[0mself\u001b[0m\u001b[0;34m,\u001b[0m \u001b[0mdtype\u001b[0m\u001b[0;34m=\u001b[0m\u001b[0;32mNone\u001b[0m\u001b[0;34m)\u001b[0m \u001b[0;34m->\u001b[0m \u001b[0mnp\u001b[0m\u001b[0;34m.\u001b[0m\u001b[0mndarray\u001b[0m\u001b[0;34m:\u001b[0m\u001b[0;34m\u001b[0m\u001b[0;34m\u001b[0m\u001b[0m\n\u001b[0;32m--> 203\u001b[0;31m         \u001b[0;32mreturn\u001b[0m \u001b[0mnp\u001b[0m\u001b[0;34m.\u001b[0m\u001b[0masarray\u001b[0m\u001b[0;34m(\u001b[0m\u001b[0mself\u001b[0m\u001b[0;34m.\u001b[0m\u001b[0m_ndarray\u001b[0m\u001b[0;34m,\u001b[0m \u001b[0mdtype\u001b[0m\u001b[0;34m=\u001b[0m\u001b[0mdtype\u001b[0m\u001b[0;34m)\u001b[0m\u001b[0;34m\u001b[0m\u001b[0;34m\u001b[0m\u001b[0m\n\u001b[0m\u001b[1;32m    204\u001b[0m \u001b[0;34m\u001b[0m\u001b[0m\n\u001b[1;32m    205\u001b[0m     \u001b[0m_HANDLED_TYPES\u001b[0m \u001b[0;34m=\u001b[0m \u001b[0;34m(\u001b[0m\u001b[0mnp\u001b[0m\u001b[0;34m.\u001b[0m\u001b[0mndarray\u001b[0m\u001b[0;34m,\u001b[0m \u001b[0mnumbers\u001b[0m\u001b[0;34m.\u001b[0m\u001b[0mNumber\u001b[0m\u001b[0;34m)\u001b[0m\u001b[0;34m\u001b[0m\u001b[0;34m\u001b[0m\u001b[0m\n",
      "\u001b[0;32m~/opt/anaconda3/lib/python3.8/site-packages/numpy/core/_asarray.py\u001b[0m in \u001b[0;36masarray\u001b[0;34m(a, dtype, order)\u001b[0m\n\u001b[1;32m     81\u001b[0m \u001b[0;34m\u001b[0m\u001b[0m\n\u001b[1;32m     82\u001b[0m     \"\"\"\n\u001b[0;32m---> 83\u001b[0;31m     \u001b[0;32mreturn\u001b[0m \u001b[0marray\u001b[0m\u001b[0;34m(\u001b[0m\u001b[0ma\u001b[0m\u001b[0;34m,\u001b[0m \u001b[0mdtype\u001b[0m\u001b[0;34m,\u001b[0m \u001b[0mcopy\u001b[0m\u001b[0;34m=\u001b[0m\u001b[0;32mFalse\u001b[0m\u001b[0;34m,\u001b[0m \u001b[0morder\u001b[0m\u001b[0;34m=\u001b[0m\u001b[0morder\u001b[0m\u001b[0;34m)\u001b[0m\u001b[0;34m\u001b[0m\u001b[0;34m\u001b[0m\u001b[0m\n\u001b[0m\u001b[1;32m     84\u001b[0m \u001b[0;34m\u001b[0m\u001b[0m\n\u001b[1;32m     85\u001b[0m \u001b[0;34m\u001b[0m\u001b[0m\n",
      "\u001b[0;31mValueError\u001b[0m: setting an array element with a sequence."
     ]
    }
   ],
   "source": [
    "fit = umap.UMAP(\n",
    "    n_neighbors=50,\n",
    "    min_dist=0.01,\n",
    "    n_components=2,\n",
    "    metric=\"euclidean\",\n",
    "    random_state=42\n",
    ")\n",
    "    \n",
    "umap_result = fit.fit_transform(love.vec)"
   ]
  },
  {
   "cell_type": "markdown",
   "metadata": {},
   "source": [
    "Отображаем результат проекции:"
   ]
  },
  {
   "cell_type": "code",
   "execution_count": 18,
   "metadata": {},
   "outputs": [
    {
     "data": {
      "text/plain": [
       "<matplotlib.legend.Legend at 0x28a86cf6fa0>"
      ]
     },
     "execution_count": 18,
     "metadata": {},
     "output_type": "execute_result"
    },
    {
     "data": {
      "image/png": "[encoded data removed]",
      "text/plain": [
       "<Figure size 720x720 with 1 Axes>"
      ]
     },
     "metadata": {
      "needs_background": "light"
     },
     "output_type": "display_data"
    }
   ],
   "source": [
    "keys = list(love[\"sub_category\"].value_counts().keys())\n",
    "themes_dict = {keys[i]:i for i in range(len(keys))}\n",
    "colors = [sns.color_palette(\"hls\", len(themes_dict))[x] for x in love[\"sub_category\"].map(themes_dict)]\n",
    "\n",
    "fig = plt.figure(figsize=(10, 10))\n",
    "plt.scatter(umap_result[:, 0], umap_result[:, 1], c=colors)\n",
    "\n",
    "patches = [mpatches.Patch(color=sns.color_palette(\"hls\", len(themes_dict))[i], label=keys[i]) for i in range(len(keys))]\n",
    "plt.legend(handles=patches, ncol=10, loc=\"lower center\")"
   ]
  },
  {
   "cell_type": "markdown",
   "metadata": {},
   "source": [
    "Преобразуем тексты в виде n-грамм в последовательности индексов слов в матрице вложений:"
   ]
  },
  {
   "cell_type": "code",
   "execution_count": 30,
   "metadata": {
    "scrolled": false
   },
   "outputs": [
    {
     "data": {
      "text/plain": [
       "Lyndon B. Johnson        16\n",
       "Ronald Reagan            14\n",
       "Barack Obama             10\n",
       "Franklin D. Roosevelt    10\n",
       "John F. Kennedy           9\n",
       "George W. Bush            8\n",
       "Herbert Hoover            7\n",
       "George H. W. Bush         7\n",
       "Woodrow Wilson            7\n",
       "Donald Trump              6\n",
       "James K. Polk             6\n",
       "Warren G. Harding         6\n",
       "Thomas Jefferson          6\n",
       "Bill Clinton              6\n",
       "George Washington         6\n",
       "Calvin Coolidge           6\n",
       "Grover Cleveland          6\n",
       "Theodore Roosevelt        5\n",
       "William McKinley          5\n",
       "James Madison             4\n",
       "James Monroe              4\n",
       "Andrew Johnson            4\n",
       "Franklin Pierce           4\n",
       "Andrew Jackson            4\n",
       "Benjamin Harrison         3\n",
       "Richard M. Nixon          3\n",
       "Martin Van Buren          3\n",
       "William Taft              3\n",
       "John Tyler                3\n",
       "Ulysses S. Grant          2\n",
       "Harry S. Truman           2\n",
       "Rutherford B. Hayes       2\n",
       "Zachary Taylor            2\n",
       "Abraham Lincoln           2\n",
       "James Buchanan            2\n",
       "John Adams                1\n",
       "Jimmy Carter              1\n",
       "Chester A. Arthur         1\n",
       "Millard Fillmore          1\n",
       "Gerald Ford               1\n",
       "Name: president, dtype: int64"
      ]
     },
     "execution_count": 30,
     "metadata": {},
     "output_type": "execute_result"
    }
   ],
   "source": [
    "train, test = model_selection.train_test_split(speeches, test_size=0.2)\n",
    "test.president.value_counts()"
   ]
  },
  {
   "cell_type": "code",
   "execution_count": 31,
   "metadata": {},
   "outputs": [],
   "source": [
    "x_train = kprocessing.sequence.pad_sequences(\n",
    "    train.vec, \n",
    "    maxlen=max_words, \n",
    "    padding=\"post\", \n",
    "    truncating=\"post\"\n",
    ")"
   ]
  },
  {
   "cell_type": "markdown",
   "metadata": {},
   "source": [
    "Составляем n-граммы для тестовой выборки:"
   ]
  },
  {
   "cell_type": "code",
   "execution_count": 32,
   "metadata": {},
   "outputs": [],
   "source": [
    "# Выравнивание по длине\n",
    "x_test = kprocessing.sequence.pad_sequences(\n",
    "    test.vec, \n",
    "    maxlen=max_words,\n",
    "    padding=\"post\", \n",
    "    truncating=\"post\"\n",
    ")"
   ]
  },
  {
   "cell_type": "markdown",
   "metadata": {},
   "source": [
    "Строим матрицу вложений размером <число_слов> * <длина_вложения_слова>:"
   ]
  },
  {
   "cell_type": "code",
   "execution_count": 43,
   "metadata": {},
   "outputs": [],
   "source": [
    "max_words = max(speeches.vec.apply(lambda vec: len(vec)))\n",
    "num_classes = len(np.unique(speeches.president))"
   ]
  },
  {
   "cell_type": "code",
   "execution_count": 44,
   "metadata": {},
   "outputs": [
    {
     "name": "stdout",
     "output_type": "stream",
     "text": [
      "Model: \"sequential_1\"\n",
      "_________________________________________________________________\n",
      "Layer (type)                 Output Shape              Param #   \n",
      "=================================================================\n",
      "dense_2 (Dense)              (None, 512)               339712512 \n",
      "_________________________________________________________________\n",
      "activation_2 (Activation)    (None, 512)               0         \n",
      "_________________________________________________________________\n",
      "dense_3 (Dense)              (None, 42)                21546     \n",
      "_________________________________________________________________\n",
      "activation_3 (Activation)    (None, 42)                0         \n",
      "=================================================================\n",
      "Total params: 339,734,058\n",
      "Trainable params: 339,734,058\n",
      "Non-trainable params: 0\n",
      "_________________________________________________________________\n"
     ]
    }
   ],
   "source": [
    "model = Sequential()\n",
    "model.add(layers.Dense(512, input_shape=(max_words,)))\n",
    "model.add(layers.Activation('relu'))\n",
    "model.add(layers.Dense(num_classes))\n",
    "model.add(layers.Activation('softmax'))\n",
    "model.compile(loss='sparse_categorical_crossentropy',\n",
    "              optimizer='adam', metrics=['accuracy'])\n",
    "model.summary()"
   ]
  },
  {
   "cell_type": "code",
   "execution_count": 45,
   "metadata": {},
   "outputs": [],
   "source": [
    "y_train = train[\"president\"].values\n",
    "dic_y_mapping = {n:label for n,label in \n",
    "                 enumerate(np.unique(y_train))}\n",
    "inverse_dic = {v:k for k,v in dic_y_mapping.items()}\n",
    "y_train = np.array([inverse_dic[y] for y in y_train])\n",
    "\n",
    "y_test = test[\"president\"].values\n",
    "dic_y_mapping = {n:label for n,label in \n",
    "                 enumerate(np.unique(y_test))}\n",
    "inverse_dic = {v:k for k,v in dic_y_mapping.items()}\n",
    "y_test = np.array([inverse_dic[y] for y in y_test])"
   ]
  },
  {
   "cell_type": "code",
   "execution_count": 47,
   "metadata": {},
   "outputs": [],
   "source": [
    "training = model.fit(x=x_train, y=y_train, batch_size=50, \n",
    "                     epochs=20, shuffle=True, verbose=0, \n",
    "                     validation_split=0.3)"
   ]
  },
  {
   "cell_type": "code",
   "execution_count": 48,
   "metadata": {
    "scrolled": false
   },
   "outputs": [
    {
     "name": "stdout",
     "output_type": "stream",
     "text": [
      "              precision    recall  f1-score   support\n",
      "\n",
      "           0       0.00      0.00      0.00         2\n",
      "           1       0.00      0.00      0.00         4\n",
      "           2       0.14      0.75      0.23         4\n",
      "           3       0.11      0.30      0.16        10\n",
      "           4       0.22      0.67      0.33         3\n",
      "           5       0.03      0.17      0.06         6\n",
      "           6       0.00      0.00      0.00         6\n",
      "           7       0.00      0.00      0.00         1\n",
      "           8       0.00      0.00      0.00         6\n",
      "           9       0.00      0.00      0.00        10\n",
      "          10       0.00      0.00      0.00         4\n",
      "          11       0.00      0.00      0.00         7\n",
      "          12       0.07      0.25      0.11         8\n",
      "          13       0.00      0.00      0.00         6\n",
      "          14       0.00      0.00      0.00         1\n",
      "          15       0.00      0.00      0.00         6\n",
      "          16       0.00      0.00      0.00         2\n",
      "          17       0.00      0.00      0.00         7\n",
      "          18       0.00      0.00      0.00         2\n",
      "          19       0.00      0.00      0.00         6\n",
      "          20       0.09      0.25      0.13         4\n",
      "          21       0.00      0.00      0.00         4\n",
      "          22       0.00      0.00      0.00         1\n",
      "          23       0.00      0.00      0.00         1\n",
      "          24       0.00      0.00      0.00         9\n",
      "          25       0.00      0.00      0.00         3\n",
      "          26       0.00      0.00      0.00        16\n",
      "          27       0.00      0.00      0.00         3\n",
      "          28       0.00      0.00      0.00         1\n",
      "          29       0.00      0.00      0.00         3\n",
      "          30       0.00      0.00      0.00        14\n",
      "          31       0.00      0.00      0.00         2\n",
      "          32       0.00      0.00      0.00         5\n",
      "          33       0.00      0.00      0.00         6\n",
      "          34       0.00      0.00      0.00         2\n",
      "          35       0.00      0.00      0.00         6\n",
      "          36       0.04      0.20      0.06         5\n",
      "          37       0.00      0.00      0.00         3\n",
      "          38       0.00      0.00      0.00         7\n",
      "          39       0.00      0.00      0.00         2\n",
      "          40       0.00      0.00      0.00         0\n",
      "\n",
      "    accuracy                           0.07       198\n",
      "   macro avg       0.02      0.06      0.03       198\n",
      "weighted avg       0.02      0.07      0.03       198\n",
      "\n"
     ]
    },
    {
     "name": "stderr",
     "output_type": "stream",
     "text": [
      "C:\\Users\\IksaritsaNI\\Anaconda3\\lib\\site-packages\\sklearn\\metrics\\_classification.py:1221: UndefinedMetricWarning: Precision and F-score are ill-defined and being set to 0.0 in labels with no predicted samples. Use `zero_division` parameter to control this behavior.\n",
      "  _warn_prf(average, modifier, msg_start, len(result))\n",
      "C:\\Users\\IksaritsaNI\\Anaconda3\\lib\\site-packages\\sklearn\\metrics\\_classification.py:1221: UndefinedMetricWarning: Recall and F-score are ill-defined and being set to 0.0 in labels with no true samples. Use `zero_division` parameter to control this behavior.\n",
      "  _warn_prf(average, modifier, msg_start, len(result))\n"
     ]
    }
   ],
   "source": [
    "res = list(map(lambda x: list(x).index(max(x)), model.predict(x_test)))\n",
    "print(classification_report(y_test, res))"
   ]
  }
 ],
 "metadata": {
  "kernelspec": {
   "display_name": "Python 3",
   "language": "python",
   "name": "python3"
  },
  "language_info": {
   "codemirror_mode": {
    "name": "ipython",
    "version": 3
   },
   "file_extension": ".py",
   "mimetype": "text/x-python",
   "name": "python",
   "nbconvert_exporter": "python",
   "pygments_lexer": "ipython3",
   "version": "3.8.8"
  }
 },
 "nbformat": 4,
 "nbformat_minor": 4
}
