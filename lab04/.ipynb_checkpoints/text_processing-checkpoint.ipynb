{
 "cells": [
  {
   "cell_type": "markdown",
   "metadata": {},
   "source": [
    "https://www.kaggle.com/bobazooba/thousands-of-questions-about-love"
   ]
  },
  {
   "cell_type": "code",
   "execution_count": 12,
   "metadata": {},
   "outputs": [],
   "source": [
    "import os\n",
    "import re\n",
    "import nltk\n",
    "import umap\n",
    "import numpy as np\n",
    "import pandas as pd\n",
    "import seaborn as sns\n",
    "import matplotlib.pyplot as plt\n",
    "from nltk.corpus import stopwords\n",
    "from sklearn import model_selection\n",
    "import matplotlib.patches as mpatches\n",
    "from sklearn.ensemble import RandomForestClassifier\n",
    "from sklearn.linear_model import LogisticRegression\n",
    "from sklearn.metrics import classification_report\n",
    "from sklearn.feature_extraction.text import CountVectorizer\n",
    "from sklearn.feature_extraction.text import CountVectorizer, TfidfVectorizer\n",
    "import pymorphy2\n",
    "import pymystem3\n",
    "from tqdm import tqdm"
   ]
  },
  {
   "cell_type": "code",
   "execution_count": 13,
   "metadata": {},
   "outputs": [],
   "source": [
    "import smart_open\n",
    "smart_open.open = smart_open.smart_open\n",
    "import gensim\n",
    "import gensim.downloader as gensim_api\n",
    "import multiprocessing"
   ]
  },
  {
   "cell_type": "code",
   "execution_count": 14,
   "metadata": {},
   "outputs": [],
   "source": [
    "from tensorflow.keras import models, layers, preprocessing as kprocessing, Sequential"
   ]
  },
  {
   "cell_type": "markdown",
   "metadata": {},
   "source": [
    "Функция для преобразования текста (удаление стоп-слов, лемматизация (приведение к начальной форме)):"
   ]
  },
  {
   "cell_type": "code",
   "execution_count": 15,
   "metadata": {},
   "outputs": [
    {
     "name": "stderr",
     "output_type": "stream",
     "text": [
      "[nltk_data] Downloading package stopwords to\n",
      "[nltk_data]     C:\\Users\\IksaritsaNI\\AppData\\Roaming\\nltk_data...\n",
      "[nltk_data]   Package stopwords is already up-to-date!\n"
     ]
    },
    {
     "data": {
      "text/plain": [
       "True"
      ]
     },
     "execution_count": 15,
     "metadata": {},
     "output_type": "execute_result"
    }
   ],
   "source": [
    "max_text_length = 200\n",
    "morph = pymorphy2.MorphAnalyzer()\n",
    "mystem = pymystem3.Mystem()\n",
    "\n",
    "def normalize(text):\n",
    "    words = re.findall('[A-Za-zА-Яа-яЁё]+\\-[A-Za-zА-Яа-яЁё]+|[A-Za-zА-Яа-яЁё]+', text)\n",
    "    \n",
    "    sw = stopwords.words('russian')\n",
    "    lst_text = [word for word in words if word not in sw][:max_text_length]\n",
    "    \n",
    "    # Лемматизация\n",
    "    words = [morph.parse(word)[0].normal_form for word in words]\n",
    "    \n",
    "    return \" \".join(words)\n",
    "\n",
    "def normalizePymystem(text):\n",
    "    tokens = mystem.analyze(text)\n",
    "    words = []\n",
    "    for t in tokens:\n",
    "        if 'analysis' in t.keys():\n",
    "            if t['analysis'] != []:\n",
    "                words.append(t['analysis'][0]['lex'])\n",
    "            else:\n",
    "                words.append(t['text'])\n",
    "    return \" \".join(words)\n",
    "\n",
    "#nltk.download('wordnet')\n",
    "#nltk.download('averaged_perceptron_tagger_ru')\n",
    "nltk.download('stopwords')"
   ]
  },
  {
   "cell_type": "code",
   "execution_count": 16,
   "metadata": {
    "scrolled": false
   },
   "outputs": [
    {
     "data": {
      "text/html": [
       "<div>\n",
       "<style scoped>\n",
       "    .dataframe tbody tr th:only-of-type {\n",
       "        vertical-align: middle;\n",
       "    }\n",
       "\n",
       "    .dataframe tbody tr th {\n",
       "        vertical-align: top;\n",
       "    }\n",
       "\n",
       "    .dataframe thead th {\n",
       "        text-align: right;\n",
       "    }\n",
       "</style>\n",
       "<table border=\"1\" class=\"dataframe\">\n",
       "  <thead>\n",
       "    <tr style=\"text-align: right;\">\n",
       "      <th></th>\n",
       "      <th>question</th>\n",
       "      <th>comment</th>\n",
       "      <th>sub_category</th>\n",
       "    </tr>\n",
       "  </thead>\n",
       "  <tbody>\n",
       "    <tr>\n",
       "      <th>0</th>\n",
       "      <td>С мужчиной не видимся</td>\n",
       "      <td>Поснакомились с мужчиной месяц назад. Интересн...</td>\n",
       "      <td>relations</td>\n",
       "    </tr>\n",
       "    <tr>\n",
       "      <th>1</th>\n",
       "      <td>30 лет для 33 летнего мужика, это очень старая...</td>\n",
       "      <td>даже если ее и не любит, а как инкубатор?</td>\n",
       "      <td>relations</td>\n",
       "    </tr>\n",
       "    <tr>\n",
       "      <th>2</th>\n",
       "      <td>Нормально ли поведение мужчины?</td>\n",
       "      <td>Нормально ли поведение мужчины,?!Написал снача...</td>\n",
       "      <td>relations</td>\n",
       "    </tr>\n",
       "    <tr>\n",
       "      <th>3</th>\n",
       "      <td>Почему один парень на работе ни с того ни с се...</td>\n",
       "      <td>При этом других не трогает и она на него тоже ...</td>\n",
       "      <td>relations</td>\n",
       "    </tr>\n",
       "    <tr>\n",
       "      <th>4</th>\n",
       "      <td>Почему женщины не могут понять одну истину...?</td>\n",
       "      <td>В последнее время часто встречаются женщины, к...</td>\n",
       "      <td>relations</td>\n",
       "    </tr>\n",
       "    <tr>\n",
       "      <th>...</th>\n",
       "      <td>...</td>\n",
       "      <td>...</td>\n",
       "      <td>...</td>\n",
       "    </tr>\n",
       "    <tr>\n",
       "      <th>38554</th>\n",
       "      <td>Здравствуйте! Что делать? Объясните</td>\n",
       "      <td>Короче моя подруга сегодня сказала, что я стра...</td>\n",
       "      <td>friendship</td>\n",
       "    </tr>\n",
       "    <tr>\n",
       "      <th>38555</th>\n",
       "      <td>Как понять нравлюсь ли я парню?</td>\n",
       "      <td>Мы учимся в одной группе. Иногда общаемся... Ч...</td>\n",
       "      <td>friendship</td>\n",
       "    </tr>\n",
       "    <tr>\n",
       "      <th>38556</th>\n",
       "      <td>есть привычка отбирать людей по статусу и поло...</td>\n",
       "      <td>как бы сказать, мне приятно общаться с богатым...</td>\n",
       "      <td>friendship</td>\n",
       "    </tr>\n",
       "    <tr>\n",
       "      <th>38557</th>\n",
       "      <td>Как назвать человека, который помогает, даде е...</td>\n",
       "      <td>Не согу вспомнить слово, вот ситуация, тебе ну...</td>\n",
       "      <td>friendship</td>\n",
       "    </tr>\n",
       "    <tr>\n",
       "      <th>38558</th>\n",
       "      <td>у меня были друзья они оказалась последними св...</td>\n",
       "      <td>подсознательно думаю о них как забыть их?</td>\n",
       "      <td>friendship</td>\n",
       "    </tr>\n",
       "  </tbody>\n",
       "</table>\n",
       "<p>38559 rows × 3 columns</p>\n",
       "</div>"
      ],
      "text/plain": [
       "                                                question  \\\n",
       "0                                  С мужчиной не видимся   \n",
       "1      30 лет для 33 летнего мужика, это очень старая...   \n",
       "2                        Нормально ли поведение мужчины?   \n",
       "3      Почему один парень на работе ни с того ни с се...   \n",
       "4         Почему женщины не могут понять одну истину...?   \n",
       "...                                                  ...   \n",
       "38554                Здравствуйте! Что делать? Объясните   \n",
       "38555                    Как понять нравлюсь ли я парню?   \n",
       "38556  есть привычка отбирать людей по статусу и поло...   \n",
       "38557  Как назвать человека, который помогает, даде е...   \n",
       "38558  у меня были друзья они оказалась последними св...   \n",
       "\n",
       "                                                 comment sub_category  \n",
       "0      Поснакомились с мужчиной месяц назад. Интересн...    relations  \n",
       "1              даже если ее и не любит, а как инкубатор?    relations  \n",
       "2      Нормально ли поведение мужчины,?!Написал снача...    relations  \n",
       "3      При этом других не трогает и она на него тоже ...    relations  \n",
       "4      В последнее время часто встречаются женщины, к...    relations  \n",
       "...                                                  ...          ...  \n",
       "38554  Короче моя подруга сегодня сказала, что я стра...   friendship  \n",
       "38555  Мы учимся в одной группе. Иногда общаемся... Ч...   friendship  \n",
       "38556  как бы сказать, мне приятно общаться с богатым...   friendship  \n",
       "38557  Не согу вспомнить слово, вот ситуация, тебе ну...   friendship  \n",
       "38558          подсознательно думаю о них как забыть их?   friendship  \n",
       "\n",
       "[38559 rows x 3 columns]"
      ]
     },
     "execution_count": 16,
     "metadata": {},
     "output_type": "execute_result"
    }
   ],
   "source": [
    "love = pd.read_json(\"../resources/love.jsonl\", lines=True)[['question', 'comment', 'sub_category']]\n",
    "#love[\"text\"] = love[\"question\"] + love[\"comment\"]\n",
    "#love['text'] = love[['question', 'comment']].agg(' '.join, axis=1)\n",
    "love = love.replace(\"\", float(\"NaN\")).dropna().drop_duplicates(ignore_index=True)\n",
    "love"
   ]
  },
  {
   "cell_type": "code",
   "execution_count": 17,
   "metadata": {},
   "outputs": [
    {
     "data": {
      "text/plain": [
       "divorsing     8840\n",
       "relations     7453\n",
       "friendship    7386\n",
       "loving        6077\n",
       "dating        5337\n",
       "love_other    3466\n",
       "Name: sub_category, dtype: int64"
      ]
     },
     "execution_count": 17,
     "metadata": {},
     "output_type": "execute_result"
    }
   ],
   "source": [
    "love['sub_category'].value_counts()"
   ]
  },
  {
   "cell_type": "code",
   "execution_count": 18,
   "metadata": {
    "scrolled": true
   },
   "outputs": [
    {
     "data": {
      "text/html": [
       "<div>\n",
       "<style scoped>\n",
       "    .dataframe tbody tr th:only-of-type {\n",
       "        vertical-align: middle;\n",
       "    }\n",
       "\n",
       "    .dataframe tbody tr th {\n",
       "        vertical-align: top;\n",
       "    }\n",
       "\n",
       "    .dataframe thead th {\n",
       "        text-align: right;\n",
       "    }\n",
       "</style>\n",
       "<table border=\"1\" class=\"dataframe\">\n",
       "  <thead>\n",
       "    <tr style=\"text-align: right;\">\n",
       "      <th></th>\n",
       "      <th>question</th>\n",
       "      <th>comment</th>\n",
       "      <th>sub_category</th>\n",
       "    </tr>\n",
       "  </thead>\n",
       "  <tbody>\n",
       "    <tr>\n",
       "      <th>0</th>\n",
       "      <td>С мужчиной не видимся</td>\n",
       "      <td>Поснакомились с мужчиной месяц назад. Интересн...</td>\n",
       "      <td>relations</td>\n",
       "    </tr>\n",
       "    <tr>\n",
       "      <th>1</th>\n",
       "      <td>30 лет для 33 летнего мужика, это очень старая...</td>\n",
       "      <td>даже если ее и не любит, а как инкубатор?</td>\n",
       "      <td>relations</td>\n",
       "    </tr>\n",
       "    <tr>\n",
       "      <th>2</th>\n",
       "      <td>Нормально ли поведение мужчины?</td>\n",
       "      <td>Нормально ли поведение мужчины,?!Написал снача...</td>\n",
       "      <td>relations</td>\n",
       "    </tr>\n",
       "    <tr>\n",
       "      <th>3</th>\n",
       "      <td>Почему один парень на работе ни с того ни с се...</td>\n",
       "      <td>При этом других не трогает и она на него тоже ...</td>\n",
       "      <td>relations</td>\n",
       "    </tr>\n",
       "    <tr>\n",
       "      <th>4</th>\n",
       "      <td>Почему женщины не могут понять одну истину...?</td>\n",
       "      <td>В последнее время часто встречаются женщины, к...</td>\n",
       "      <td>relations</td>\n",
       "    </tr>\n",
       "    <tr>\n",
       "      <th>...</th>\n",
       "      <td>...</td>\n",
       "      <td>...</td>\n",
       "      <td>...</td>\n",
       "    </tr>\n",
       "    <tr>\n",
       "      <th>8995</th>\n",
       "      <td>Объясните поведение парня?</td>\n",
       "      <td>Познакомилась через знакомого с одним парнем. ...</td>\n",
       "      <td>friendship</td>\n",
       "    </tr>\n",
       "    <tr>\n",
       "      <th>8996</th>\n",
       "      <td>Отец назвал шлюхой, устроил скандал</td>\n",
       "      <td>Дело обстоит так. Я встречаюсь с молодым челов...</td>\n",
       "      <td>friendship</td>\n",
       "    </tr>\n",
       "    <tr>\n",
       "      <th>8997</th>\n",
       "      <td>Как думаете, почему он не пишет?</td>\n",
       "      <td>Общаемся с другом каждый день и так то пишет п...</td>\n",
       "      <td>friendship</td>\n",
       "    </tr>\n",
       "    <tr>\n",
       "      <th>8998</th>\n",
       "      <td>мне 16 лет у меня раннее половое созревание го...</td>\n",
       "      <td>а какой то противный и ущербный. Как его грубе...</td>\n",
       "      <td>friendship</td>\n",
       "    </tr>\n",
       "    <tr>\n",
       "      <th>8999</th>\n",
       "      <td>Кто какие песни про ожидания знает? +</td>\n",
       "      <td>А я стою, чего-то жду,А музыка играет и играет...</td>\n",
       "      <td>friendship</td>\n",
       "    </tr>\n",
       "  </tbody>\n",
       "</table>\n",
       "<p>9000 rows × 3 columns</p>\n",
       "</div>"
      ],
      "text/plain": [
       "                                               question  \\\n",
       "0                                 С мужчиной не видимся   \n",
       "1     30 лет для 33 летнего мужика, это очень старая...   \n",
       "2                       Нормально ли поведение мужчины?   \n",
       "3     Почему один парень на работе ни с того ни с се...   \n",
       "4        Почему женщины не могут понять одну истину...?   \n",
       "...                                                 ...   \n",
       "8995                         Объясните поведение парня?   \n",
       "8996                Отец назвал шлюхой, устроил скандал   \n",
       "8997                   Как думаете, почему он не пишет?   \n",
       "8998  мне 16 лет у меня раннее половое созревание го...   \n",
       "8999              Кто какие песни про ожидания знает? +   \n",
       "\n",
       "                                                comment sub_category  \n",
       "0     Поснакомились с мужчиной месяц назад. Интересн...    relations  \n",
       "1             даже если ее и не любит, а как инкубатор?    relations  \n",
       "2     Нормально ли поведение мужчины,?!Написал снача...    relations  \n",
       "3     При этом других не трогает и она на него тоже ...    relations  \n",
       "4     В последнее время часто встречаются женщины, к...    relations  \n",
       "...                                                 ...          ...  \n",
       "8995  Познакомилась через знакомого с одним парнем. ...   friendship  \n",
       "8996  Дело обстоит так. Я встречаюсь с молодым челов...   friendship  \n",
       "8997  Общаемся с другом каждый день и так то пишет п...   friendship  \n",
       "8998  а какой то противный и ущербный. Как его грубе...   friendship  \n",
       "8999  А я стою, чего-то жду,А музыка играет и играет...   friendship  \n",
       "\n",
       "[9000 rows x 3 columns]"
      ]
     },
     "execution_count": 18,
     "metadata": {},
     "output_type": "execute_result"
    }
   ],
   "source": [
    "res = []\n",
    "\n",
    "for cat in love['sub_category'].unique():\n",
    "    tmp = love[love.sub_category == cat]\n",
    "    #tmp = tmp.sample(frac=1)\n",
    "    tmp = tmp[:1500]\n",
    "    res.append(tmp)\n",
    "\n",
    "love = pd.concat(res).reset_index(drop=True)\n",
    "love"
   ]
  },
  {
   "cell_type": "code",
   "execution_count": 19,
   "metadata": {
    "scrolled": false
   },
   "outputs": [
    {
     "name": "stderr",
     "output_type": "stream",
     "text": [
      "100%|██████████████████████████████████████████████████████████████████████████████| 9000/9000 [02:46<00:00, 54.01it/s]\n"
     ]
    },
    {
     "data": {
      "text/html": [
       "<div>\n",
       "<style scoped>\n",
       "    .dataframe tbody tr th:only-of-type {\n",
       "        vertical-align: middle;\n",
       "    }\n",
       "\n",
       "    .dataframe tbody tr th {\n",
       "        vertical-align: top;\n",
       "    }\n",
       "\n",
       "    .dataframe thead th {\n",
       "        text-align: right;\n",
       "    }\n",
       "</style>\n",
       "<table border=\"1\" class=\"dataframe\">\n",
       "  <thead>\n",
       "    <tr style=\"text-align: right;\">\n",
       "      <th></th>\n",
       "      <th>question</th>\n",
       "      <th>comment</th>\n",
       "      <th>sub_category</th>\n",
       "      <th>cleaned</th>\n",
       "    </tr>\n",
       "  </thead>\n",
       "  <tbody>\n",
       "    <tr>\n",
       "      <th>0</th>\n",
       "      <td>С мужчиной не видимся</td>\n",
       "      <td>Поснакомились с мужчиной месяц назад. Интересн...</td>\n",
       "      <td>relations</td>\n",
       "      <td>поснакомиться с мужчина месяц назад интересно ...</td>\n",
       "    </tr>\n",
       "    <tr>\n",
       "      <th>1</th>\n",
       "      <td>30 лет для 33 летнего мужика, это очень старая...</td>\n",
       "      <td>даже если ее и не любит, а как инкубатор?</td>\n",
       "      <td>relations</td>\n",
       "      <td>даже если она и не любить а как инкубатор</td>\n",
       "    </tr>\n",
       "    <tr>\n",
       "      <th>2</th>\n",
       "      <td>Нормально ли поведение мужчины?</td>\n",
       "      <td>Нормально ли поведение мужчины,?!Написал снача...</td>\n",
       "      <td>relations</td>\n",
       "      <td>нормально ли поведение мужчина написать сначал...</td>\n",
       "    </tr>\n",
       "    <tr>\n",
       "      <th>3</th>\n",
       "      <td>Почему один парень на работе ни с того ни с се...</td>\n",
       "      <td>При этом других не трогает и она на него тоже ...</td>\n",
       "      <td>relations</td>\n",
       "      <td>при это другой не трогать и она на он тоже не ...</td>\n",
       "    </tr>\n",
       "    <tr>\n",
       "      <th>4</th>\n",
       "      <td>Почему женщины не могут понять одну истину...?</td>\n",
       "      <td>В последнее время часто встречаются женщины, к...</td>\n",
       "      <td>relations</td>\n",
       "      <td>в последний время часто встречаться женщина ко...</td>\n",
       "    </tr>\n",
       "    <tr>\n",
       "      <th>...</th>\n",
       "      <td>...</td>\n",
       "      <td>...</td>\n",
       "      <td>...</td>\n",
       "      <td>...</td>\n",
       "    </tr>\n",
       "    <tr>\n",
       "      <th>8995</th>\n",
       "      <td>Объясните поведение парня?</td>\n",
       "      <td>Познакомилась через знакомого с одним парнем. ...</td>\n",
       "      <td>friendship</td>\n",
       "      <td>познакомиться через знакомый с один парень гул...</td>\n",
       "    </tr>\n",
       "    <tr>\n",
       "      <th>8996</th>\n",
       "      <td>Отец назвал шлюхой, устроил скандал</td>\n",
       "      <td>Дело обстоит так. Я встречаюсь с молодым челов...</td>\n",
       "      <td>friendship</td>\n",
       "      <td>дело обстоять так я встречаться с молодой чело...</td>\n",
       "    </tr>\n",
       "    <tr>\n",
       "      <th>8997</th>\n",
       "      <td>Как думаете, почему он не пишет?</td>\n",
       "      <td>Общаемся с другом каждый день и так то пишет п...</td>\n",
       "      <td>friendship</td>\n",
       "      <td>общаться с друг каждый день и так то писать пе...</td>\n",
       "    </tr>\n",
       "    <tr>\n",
       "      <th>8998</th>\n",
       "      <td>мне 16 лет у меня раннее половое созревание го...</td>\n",
       "      <td>а какой то противный и ущербный. Как его грубе...</td>\n",
       "      <td>friendship</td>\n",
       "      <td>а какой то противный и ущербный как он грубый ...</td>\n",
       "    </tr>\n",
       "    <tr>\n",
       "      <th>8999</th>\n",
       "      <td>Кто какие песни про ожидания знает? +</td>\n",
       "      <td>А я стою, чего-то жду,А музыка играет и играет...</td>\n",
       "      <td>friendship</td>\n",
       "      <td>а я стоить что-то ждать а музыка играть и игра...</td>\n",
       "    </tr>\n",
       "  </tbody>\n",
       "</table>\n",
       "<p>9000 rows × 4 columns</p>\n",
       "</div>"
      ],
      "text/plain": [
       "                                               question  \\\n",
       "0                                 С мужчиной не видимся   \n",
       "1     30 лет для 33 летнего мужика, это очень старая...   \n",
       "2                       Нормально ли поведение мужчины?   \n",
       "3     Почему один парень на работе ни с того ни с се...   \n",
       "4        Почему женщины не могут понять одну истину...?   \n",
       "...                                                 ...   \n",
       "8995                         Объясните поведение парня?   \n",
       "8996                Отец назвал шлюхой, устроил скандал   \n",
       "8997                   Как думаете, почему он не пишет?   \n",
       "8998  мне 16 лет у меня раннее половое созревание го...   \n",
       "8999              Кто какие песни про ожидания знает? +   \n",
       "\n",
       "                                                comment sub_category  \\\n",
       "0     Поснакомились с мужчиной месяц назад. Интересн...    relations   \n",
       "1             даже если ее и не любит, а как инкубатор?    relations   \n",
       "2     Нормально ли поведение мужчины,?!Написал снача...    relations   \n",
       "3     При этом других не трогает и она на него тоже ...    relations   \n",
       "4     В последнее время часто встречаются женщины, к...    relations   \n",
       "...                                                 ...          ...   \n",
       "8995  Познакомилась через знакомого с одним парнем. ...   friendship   \n",
       "8996  Дело обстоит так. Я встречаюсь с молодым челов...   friendship   \n",
       "8997  Общаемся с другом каждый день и так то пишет п...   friendship   \n",
       "8998  а какой то противный и ущербный. Как его грубе...   friendship   \n",
       "8999  А я стою, чего-то жду,А музыка играет и играет...   friendship   \n",
       "\n",
       "                                                cleaned  \n",
       "0     поснакомиться с мужчина месяц назад интересно ...  \n",
       "1             даже если она и не любить а как инкубатор  \n",
       "2     нормально ли поведение мужчина написать сначал...  \n",
       "3     при это другой не трогать и она на он тоже не ...  \n",
       "4     в последний время часто встречаться женщина ко...  \n",
       "...                                                 ...  \n",
       "8995  познакомиться через знакомый с один парень гул...  \n",
       "8996  дело обстоять так я встречаться с молодой чело...  \n",
       "8997  общаться с друг каждый день и так то писать пе...  \n",
       "8998  а какой то противный и ущербный как он грубый ...  \n",
       "8999  а я стоить что-то ждать а музыка играть и игра...  \n",
       "\n",
       "[9000 rows x 4 columns]"
      ]
     },
     "execution_count": 19,
     "metadata": {},
     "output_type": "execute_result"
    }
   ],
   "source": [
    "cleaned = []\n",
    "\n",
    "for i in tqdm(range(love.shape[0])):\n",
    "    cleaned.append(normalize(love.comment.iloc[i]))\n",
    "    \n",
    "love['cleaned'] = cleaned\n",
    "love\n",
    "\n",
    "#from pymystem3 import Mystem\n",
    "#m = Mystem()\n",
    "#love[\"cleaned\"] = love.comment.apply(lambda text: ''.join(m.lemmatize(text)))\n",
    "#love"
   ]
  },
  {
   "cell_type": "code",
   "execution_count": 20,
   "metadata": {},
   "outputs": [],
   "source": [
    "train, test = model_selection.train_test_split(love, test_size=0.2)"
   ]
  },
  {
   "cell_type": "code",
   "execution_count": 21,
   "metadata": {},
   "outputs": [
    {
     "data": {
      "text/plain": [
       "4580    вот обидно быть так обидно я стройный всегда в...\n",
       "4860    привет весь у я такой ситуация мы с девушка ме...\n",
       "8659    общаться с подруга каникулы не видеться написа...\n",
       "8011    нравиться один подруга очень но взаимность ник...\n",
       "7936    я друг перестать сам постоянно писать звонить ...\n",
       "                              ...                        \n",
       "550     поправить опрос задать ранее другой тело так д...\n",
       "1623    хороший подруга я написать что один девчонка р...\n",
       "3720    влюбиться в один девчонка оба год ещё этот вес...\n",
       "7272    что вы подумать о парень г который всё время м...\n",
       "369     встречаться с мужчина на расстояние жить в раз...\n",
       "Name: cleaned, Length: 7200, dtype: object"
      ]
     },
     "execution_count": 21,
     "metadata": {},
     "output_type": "execute_result"
    }
   ],
   "source": [
    "corpus = train[\"cleaned\"]\n",
    "\n",
    "# Сформируем список юниграмм\n",
    "lst_corpus = []\n",
    "for string in corpus:\n",
    "   lst_words = string.split()\n",
    "   lst_grams = [\" \".join(lst_words[i:i+1]) \n",
    "               for i in range(0, len(lst_words), 1)]\n",
    "   lst_corpus.append(lst_grams)\n",
    "\n",
    "corpus"
   ]
  },
  {
   "cell_type": "markdown",
   "metadata": {},
   "source": [
    "Обучаем модель Word2Vec для построения вложений слов:"
   ]
  },
  {
   "cell_type": "code",
   "execution_count": 22,
   "metadata": {},
   "outputs": [],
   "source": [
    "nlp = gensim.models.word2vec.Word2Vec(lst_corpus, vector_size=100,   \n",
    "            window=5, min_count=1, sg=1, epochs=20)"
   ]
  },
  {
   "cell_type": "code",
   "execution_count": 23,
   "metadata": {},
   "outputs": [
    {
     "data": {
      "text/plain": [
       "19762"
      ]
     },
     "execution_count": 23,
     "metadata": {},
     "output_type": "execute_result"
    }
   ],
   "source": [
    "len(nlp.wv)"
   ]
  },
  {
   "cell_type": "markdown",
   "metadata": {},
   "source": [
    "Преобразование текста в вектор чисел на основе построенных с помощью word2Vec вложений слов:"
   ]
  },
  {
   "cell_type": "code",
   "execution_count": 24,
   "metadata": {},
   "outputs": [],
   "source": [
    "def text_to_vec(text):\n",
    "    words = text.split(\" \")\n",
    "    vec = [nlp.wv[word] for word in words if word in nlp.wv]\n",
    "    return np.asarray(vec).reshape(-1)"
   ]
  },
  {
   "cell_type": "code",
   "execution_count": 25,
   "metadata": {},
   "outputs": [],
   "source": [
    "love[\"vec\"] = love.cleaned.apply(lambda text: text_to_vec(text))"
   ]
  },
  {
   "cell_type": "code",
   "execution_count": 26,
   "metadata": {
    "scrolled": false
   },
   "outputs": [
    {
     "data": {
      "text/html": [
       "<div>\n",
       "<style scoped>\n",
       "    .dataframe tbody tr th:only-of-type {\n",
       "        vertical-align: middle;\n",
       "    }\n",
       "\n",
       "    .dataframe tbody tr th {\n",
       "        vertical-align: top;\n",
       "    }\n",
       "\n",
       "    .dataframe thead th {\n",
       "        text-align: right;\n",
       "    }\n",
       "</style>\n",
       "<table border=\"1\" class=\"dataframe\">\n",
       "  <thead>\n",
       "    <tr style=\"text-align: right;\">\n",
       "      <th></th>\n",
       "      <th>question</th>\n",
       "      <th>comment</th>\n",
       "      <th>sub_category</th>\n",
       "      <th>cleaned</th>\n",
       "      <th>vec</th>\n",
       "    </tr>\n",
       "  </thead>\n",
       "  <tbody>\n",
       "    <tr>\n",
       "      <th>0</th>\n",
       "      <td>С мужчиной не видимся</td>\n",
       "      <td>Поснакомились с мужчиной месяц назад. Интересн...</td>\n",
       "      <td>relations</td>\n",
       "      <td>поснакомиться с мужчина месяц назад интересно ...</td>\n",
       "      <td>[-0.0027745094, 0.04428424, -0.05474182, -0.00...</td>\n",
       "    </tr>\n",
       "    <tr>\n",
       "      <th>1</th>\n",
       "      <td>30 лет для 33 летнего мужика, это очень старая...</td>\n",
       "      <td>даже если ее и не любит, а как инкубатор?</td>\n",
       "      <td>relations</td>\n",
       "      <td>даже если она и не любить а как инкубатор</td>\n",
       "      <td>[0.22311522, -0.42660832, -0.044856627, -0.017...</td>\n",
       "    </tr>\n",
       "    <tr>\n",
       "      <th>2</th>\n",
       "      <td>Нормально ли поведение мужчины?</td>\n",
       "      <td>Нормально ли поведение мужчины,?!Написал снача...</td>\n",
       "      <td>relations</td>\n",
       "      <td>нормально ли поведение мужчина написать сначал...</td>\n",
       "      <td>[0.07927462, 0.12509462, -0.019550055, -0.6315...</td>\n",
       "    </tr>\n",
       "    <tr>\n",
       "      <th>3</th>\n",
       "      <td>Почему один парень на работе ни с того ни с се...</td>\n",
       "      <td>При этом других не трогает и она на него тоже ...</td>\n",
       "      <td>relations</td>\n",
       "      <td>при это другой не трогать и она на он тоже не ...</td>\n",
       "      <td>[-0.41877562, 0.7246047, 0.43740764, -0.644091...</td>\n",
       "    </tr>\n",
       "    <tr>\n",
       "      <th>4</th>\n",
       "      <td>Почему женщины не могут понять одну истину...?</td>\n",
       "      <td>В последнее время часто встречаются женщины, к...</td>\n",
       "      <td>relations</td>\n",
       "      <td>в последний время часто встречаться женщина ко...</td>\n",
       "      <td>[-0.14934734, 0.045990016, 0.010010665, -0.067...</td>\n",
       "    </tr>\n",
       "    <tr>\n",
       "      <th>...</th>\n",
       "      <td>...</td>\n",
       "      <td>...</td>\n",
       "      <td>...</td>\n",
       "      <td>...</td>\n",
       "      <td>...</td>\n",
       "    </tr>\n",
       "    <tr>\n",
       "      <th>8995</th>\n",
       "      <td>Объясните поведение парня?</td>\n",
       "      <td>Познакомилась через знакомого с одним парнем. ...</td>\n",
       "      <td>friendship</td>\n",
       "      <td>познакомиться через знакомый с один парень гул...</td>\n",
       "      <td>[0.06367826, 0.21411945, 0.22030823, -0.607924...</td>\n",
       "    </tr>\n",
       "    <tr>\n",
       "      <th>8996</th>\n",
       "      <td>Отец назвал шлюхой, устроил скандал</td>\n",
       "      <td>Дело обстоит так. Я встречаюсь с молодым челов...</td>\n",
       "      <td>friendship</td>\n",
       "      <td>дело обстоять так я встречаться с молодой чело...</td>\n",
       "      <td>[0.7060436, 0.13077635, 0.098412074, -0.384651...</td>\n",
       "    </tr>\n",
       "    <tr>\n",
       "      <th>8997</th>\n",
       "      <td>Как думаете, почему он не пишет?</td>\n",
       "      <td>Общаемся с другом каждый день и так то пишет п...</td>\n",
       "      <td>friendship</td>\n",
       "      <td>общаться с друг каждый день и так то писать пе...</td>\n",
       "      <td>[0.12196497, 0.3165825, -0.13556094, -0.094488...</td>\n",
       "    </tr>\n",
       "    <tr>\n",
       "      <th>8998</th>\n",
       "      <td>мне 16 лет у меня раннее половое созревание го...</td>\n",
       "      <td>а какой то противный и ущербный. Как его грубе...</td>\n",
       "      <td>friendship</td>\n",
       "      <td>а какой то противный и ущербный как он грубый ...</td>\n",
       "      <td>[-0.3330533, 0.28841275, -0.07866067, 0.131439...</td>\n",
       "    </tr>\n",
       "    <tr>\n",
       "      <th>8999</th>\n",
       "      <td>Кто какие песни про ожидания знает? +</td>\n",
       "      <td>А я стою, чего-то жду,А музыка играет и играет...</td>\n",
       "      <td>friendship</td>\n",
       "      <td>а я стоить что-то ждать а музыка играть и игра...</td>\n",
       "      <td>[-0.3330533, 0.28841275, -0.07866067, 0.131439...</td>\n",
       "    </tr>\n",
       "  </tbody>\n",
       "</table>\n",
       "<p>9000 rows × 5 columns</p>\n",
       "</div>"
      ],
      "text/plain": [
       "                                               question  \\\n",
       "0                                 С мужчиной не видимся   \n",
       "1     30 лет для 33 летнего мужика, это очень старая...   \n",
       "2                       Нормально ли поведение мужчины?   \n",
       "3     Почему один парень на работе ни с того ни с се...   \n",
       "4        Почему женщины не могут понять одну истину...?   \n",
       "...                                                 ...   \n",
       "8995                         Объясните поведение парня?   \n",
       "8996                Отец назвал шлюхой, устроил скандал   \n",
       "8997                   Как думаете, почему он не пишет?   \n",
       "8998  мне 16 лет у меня раннее половое созревание го...   \n",
       "8999              Кто какие песни про ожидания знает? +   \n",
       "\n",
       "                                                comment sub_category  \\\n",
       "0     Поснакомились с мужчиной месяц назад. Интересн...    relations   \n",
       "1             даже если ее и не любит, а как инкубатор?    relations   \n",
       "2     Нормально ли поведение мужчины,?!Написал снача...    relations   \n",
       "3     При этом других не трогает и она на него тоже ...    relations   \n",
       "4     В последнее время часто встречаются женщины, к...    relations   \n",
       "...                                                 ...          ...   \n",
       "8995  Познакомилась через знакомого с одним парнем. ...   friendship   \n",
       "8996  Дело обстоит так. Я встречаюсь с молодым челов...   friendship   \n",
       "8997  Общаемся с другом каждый день и так то пишет п...   friendship   \n",
       "8998  а какой то противный и ущербный. Как его грубе...   friendship   \n",
       "8999  А я стою, чего-то жду,А музыка играет и играет...   friendship   \n",
       "\n",
       "                                                cleaned  \\\n",
       "0     поснакомиться с мужчина месяц назад интересно ...   \n",
       "1             даже если она и не любить а как инкубатор   \n",
       "2     нормально ли поведение мужчина написать сначал...   \n",
       "3     при это другой не трогать и она на он тоже не ...   \n",
       "4     в последний время часто встречаться женщина ко...   \n",
       "...                                                 ...   \n",
       "8995  познакомиться через знакомый с один парень гул...   \n",
       "8996  дело обстоять так я встречаться с молодой чело...   \n",
       "8997  общаться с друг каждый день и так то писать пе...   \n",
       "8998  а какой то противный и ущербный как он грубый ...   \n",
       "8999  а я стоить что-то ждать а музыка играть и игра...   \n",
       "\n",
       "                                                    vec  \n",
       "0     [-0.0027745094, 0.04428424, -0.05474182, -0.00...  \n",
       "1     [0.22311522, -0.42660832, -0.044856627, -0.017...  \n",
       "2     [0.07927462, 0.12509462, -0.019550055, -0.6315...  \n",
       "3     [-0.41877562, 0.7246047, 0.43740764, -0.644091...  \n",
       "4     [-0.14934734, 0.045990016, 0.010010665, -0.067...  \n",
       "...                                                 ...  \n",
       "8995  [0.06367826, 0.21411945, 0.22030823, -0.607924...  \n",
       "8996  [0.7060436, 0.13077635, 0.098412074, -0.384651...  \n",
       "8997  [0.12196497, 0.3165825, -0.13556094, -0.094488...  \n",
       "8998  [-0.3330533, 0.28841275, -0.07866067, 0.131439...  \n",
       "8999  [-0.3330533, 0.28841275, -0.07866067, 0.131439...  \n",
       "\n",
       "[9000 rows x 5 columns]"
      ]
     },
     "execution_count": 26,
     "metadata": {},
     "output_type": "execute_result"
    }
   ],
   "source": [
    "love"
   ]
  },
  {
   "cell_type": "markdown",
   "metadata": {},
   "source": [
    "Выравниваем все векторизованные тексты по длине:"
   ]
  },
  {
   "cell_type": "code",
   "execution_count": 27,
   "metadata": {},
   "outputs": [
    {
     "data": {
      "text/plain": [
       "68100"
      ]
     },
     "execution_count": 27,
     "metadata": {},
     "output_type": "execute_result"
    }
   ],
   "source": [
    "max_words = max(love.vec.apply(lambda vec: len(vec)))\n",
    "max_words"
   ]
  },
  {
   "cell_type": "code",
   "execution_count": 28,
   "metadata": {},
   "outputs": [],
   "source": [
    "pad_data = kprocessing.sequence.pad_sequences(\n",
    "    love.vec, \n",
    "    maxlen=max_words, \n",
    "    padding=\"post\", \n",
    "    truncating=\"post\",\n",
    "    dtype=\"float32\"\n",
    ")"
   ]
  },
  {
   "cell_type": "markdown",
   "metadata": {},
   "source": [
    "Проецируем тексты на двумерное пространство UMAP'ом:"
   ]
  },
  {
   "cell_type": "code",
   "execution_count": 29,
   "metadata": {},
   "outputs": [],
   "source": [
    "fit = umap.UMAP(\n",
    "    n_neighbors=50,\n",
    "    min_dist=0.01,\n",
    "    n_components=2,\n",
    "    metric=\"euclidean\",\n",
    "    random_state=42\n",
    ")\n",
    "    \n",
    "umap_result = fit.fit_transform(pad_data)"
   ]
  },
  {
   "cell_type": "markdown",
   "metadata": {},
   "source": [
    "Отображаем результат проекции:"
   ]
  },
  {
   "cell_type": "code",
   "execution_count": 30,
   "metadata": {},
   "outputs": [
    {
     "data": {
      "text/plain": [
       "<matplotlib.legend.Legend at 0x2e52130e6a0>"
      ]
     },
     "execution_count": 30,
     "metadata": {},
     "output_type": "execute_result"
    },
    {
     "data": {
      "image/png": "[encoded data removed]",
      "text/plain": [
       "<Figure size 720x720 with 1 Axes>"
      ]
     },
     "metadata": {
      "needs_background": "light"
     },
     "output_type": "display_data"
    }
   ],
   "source": [
    "keys = list(love[\"sub_category\"].value_counts().keys())\n",
    "themes_dict = {keys[i]:i for i in range(len(keys))}\n",
    "colors = [sns.color_palette(\"hls\", len(themes_dict))[x] for x in love[\"sub_category\"].map(themes_dict)]\n",
    "\n",
    "fig = plt.figure(figsize=(10, 10))\n",
    "plt.scatter(umap_result[:, 0], umap_result[:, 1], c=colors)\n",
    "\n",
    "patches = [mpatches.Patch(color=sns.color_palette(\"hls\", len(themes_dict))[i], label=keys[i]) for i in range(len(keys))]\n",
    "plt.legend(handles=patches, ncol=10, loc=\"lower center\")"
   ]
  },
  {
   "cell_type": "markdown",
   "metadata": {},
   "source": [
    "Преобразуем тексты в виде n-грамм в последовательности индексов слов в матрице вложений:"
   ]
  },
  {
   "cell_type": "code",
   "execution_count": 31,
   "metadata": {
    "scrolled": false
   },
   "outputs": [
    {
     "data": {
      "text/plain": [
       "love_other    321\n",
       "friendship    309\n",
       "dating        300\n",
       "relations     295\n",
       "loving        288\n",
       "divorsing     287\n",
       "Name: sub_category, dtype: int64"
      ]
     },
     "execution_count": 31,
     "metadata": {},
     "output_type": "execute_result"
    }
   ],
   "source": [
    "train, test = model_selection.train_test_split(love, test_size=0.2)\n",
    "test.sub_category.value_counts()"
   ]
  },
  {
   "cell_type": "code",
   "execution_count": 32,
   "metadata": {},
   "outputs": [],
   "source": [
    "x_train = kprocessing.sequence.pad_sequences(\n",
    "    train.vec, \n",
    "    maxlen=max_words, \n",
    "    padding=\"post\", \n",
    "    truncating=\"post\"\n",
    ")"
   ]
  },
  {
   "cell_type": "markdown",
   "metadata": {},
   "source": [
    "Составляем n-граммы для тестовой выборки:"
   ]
  },
  {
   "cell_type": "code",
   "execution_count": 33,
   "metadata": {},
   "outputs": [],
   "source": [
    "# Выравнивание по длине\n",
    "x_test = kprocessing.sequence.pad_sequences(\n",
    "    test.vec, \n",
    "    maxlen=max_words,\n",
    "    padding=\"post\", \n",
    "    truncating=\"post\"\n",
    ")"
   ]
  },
  {
   "cell_type": "markdown",
   "metadata": {},
   "source": [
    "Строим матрицу вложений размером <число_слов> * <длина_вложения_слова>:"
   ]
  },
  {
   "cell_type": "code",
   "execution_count": 40,
   "metadata": {},
   "outputs": [],
   "source": [
    "max_words = max(love.vec.apply(lambda vec: len(vec)))\n",
    "num_classes = len(np.unique(love.sub_category))"
   ]
  },
  {
   "cell_type": "code",
   "execution_count": 51,
   "metadata": {},
   "outputs": [
    {
     "name": "stdout",
     "output_type": "stream",
     "text": [
      "Model: \"sequential_4\"\n",
      "_________________________________________________________________\n",
      "Layer (type)                 Output Shape              Param #   \n",
      "=================================================================\n",
      "dense_9 (Dense)              (None, 3000)              204303000 \n",
      "_________________________________________________________________\n",
      "activation_9 (Activation)    (None, 3000)              0         \n",
      "_________________________________________________________________\n",
      "dense_10 (Dense)             (None, 300)               900300    \n",
      "_________________________________________________________________\n",
      "activation_10 (Activation)   (None, 300)               0         \n",
      "_________________________________________________________________\n",
      "dense_11 (Dense)             (None, 6)                 1806      \n",
      "_________________________________________________________________\n",
      "activation_11 (Activation)   (None, 6)                 0         \n",
      "=================================================================\n",
      "Total params: 205,205,106\n",
      "Trainable params: 205,205,106\n",
      "Non-trainable params: 0\n",
      "_________________________________________________________________\n"
     ]
    }
   ],
   "source": [
    "model = Sequential()\n",
    "model.add(layers.Dense(3000, input_shape=(max_words,)))\n",
    "model.add(layers.Activation('relu'))\n",
    "model.add(layers.Dense(300))\n",
    "model.add(layers.Activation('relu'))\n",
    "model.add(layers.Dense(num_classes))\n",
    "model.add(layers.Activation('softmax'))\n",
    "model.compile(loss='sparse_categorical_crossentropy', optimizer='adam', metrics=['accuracy'])\n",
    "model.summary()"
   ]
  },
  {
   "cell_type": "code",
   "execution_count": 52,
   "metadata": {},
   "outputs": [],
   "source": [
    "y_train = train[\"sub_category\"].values\n",
    "dic_y_mapping = {n:label for n,label in enumerate(np.unique(y_train))}\n",
    "inverse_dic = {v:k for k,v in dic_y_mapping.items()}\n",
    "y_train = np.array([inverse_dic[y] for y in y_train])\n",
    "\n",
    "y_test = test[\"sub_category\"].values\n",
    "dic_y_mapping = {n:label for n,label in enumerate(np.unique(y_test))}\n",
    "inverse_dic = {v:k for k,v in dic_y_mapping.items()}\n",
    "y_test = np.array([inverse_dic[y] for y in y_test])"
   ]
  },
  {
   "cell_type": "code",
   "execution_count": 53,
   "metadata": {},
   "outputs": [],
   "source": [
    "training = model.fit(x=x_train, y=y_train, batch_size=100, \n",
    "                     epochs=20, shuffle=True, verbose=0, \n",
    "                     validation_split=0.3)"
   ]
  },
  {
   "cell_type": "code",
   "execution_count": 54,
   "metadata": {},
   "outputs": [
    {
     "name": "stdout",
     "output_type": "stream",
     "text": [
      "              precision    recall  f1-score   support\n",
      "\n",
      "           0       0.22      0.32      0.26       300\n",
      "           1       0.30      0.25      0.27       287\n",
      "           2       0.27      0.28      0.27       309\n",
      "           3       0.27      0.19      0.23       321\n",
      "           4       0.22      0.19      0.21       288\n",
      "           5       0.20      0.21      0.20       295\n",
      "\n",
      "    accuracy                           0.24      1800\n",
      "   macro avg       0.25      0.24      0.24      1800\n",
      "weighted avg       0.25      0.24      0.24      1800\n",
      "\n"
     ]
    }
   ],
   "source": [
    "# Dense(3000), Dense(300), batch_size=100, epochs=20\n",
    "res = list(map(lambda x: list(x).index(max(x)), model.predict(x_test)))\n",
    "print(classification_report(y_test, res))"
   ]
  },
  {
   "cell_type": "code",
   "execution_count": 48,
   "metadata": {},
   "outputs": [
    {
     "name": "stdout",
     "output_type": "stream",
     "text": [
      "              precision    recall  f1-score   support\n",
      "\n",
      "           0       0.22      0.22      0.22       300\n",
      "           1       0.29      0.33      0.31       287\n",
      "           2       0.24      0.25      0.25       309\n",
      "           3       0.25      0.25      0.25       321\n",
      "           4       0.21      0.19      0.20       288\n",
      "           5       0.21      0.20      0.21       295\n",
      "\n",
      "    accuracy                           0.24      1800\n",
      "   macro avg       0.24      0.24      0.24      1800\n",
      "weighted avg       0.24      0.24      0.24      1800\n",
      "\n"
     ]
    }
   ],
   "source": [
    "# Dense(5000), batch_size=100, epochs=20\n",
    "res = list(map(lambda x: list(x).index(max(x)), model.predict(x_test)))\n",
    "print(classification_report(y_test, res))"
   ]
  },
  {
   "cell_type": "code",
   "execution_count": 44,
   "metadata": {
    "scrolled": false
   },
   "outputs": [
    {
     "name": "stdout",
     "output_type": "stream",
     "text": [
      "              precision    recall  f1-score   support\n",
      "\n",
      "           0       0.24      0.24      0.24       300\n",
      "           1       0.27      0.32      0.29       287\n",
      "           2       0.27      0.25      0.26       309\n",
      "           3       0.28      0.26      0.27       321\n",
      "           4       0.20      0.19      0.19       288\n",
      "           5       0.21      0.22      0.21       295\n",
      "\n",
      "    accuracy                           0.25      1800\n",
      "   macro avg       0.25      0.25      0.25      1800\n",
      "weighted avg       0.25      0.25      0.25      1800\n",
      "\n"
     ]
    }
   ],
   "source": [
    "# Dense(3000), batch_size=50, epochs=20\n",
    "res = list(map(lambda x: list(x).index(max(x)), model.predict(x_test)))\n",
    "print(classification_report(y_test, res))"
   ]
  }
 ],
 "metadata": {
  "kernelspec": {
   "display_name": "Python 3",
   "language": "python",
   "name": "python3"
  },
  "language_info": {
   "codemirror_mode": {
    "name": "ipython",
    "version": 3
   },
   "file_extension": ".py",
   "mimetype": "text/x-python",
   "name": "python",
   "nbconvert_exporter": "python",
   "pygments_lexer": "ipython3",
   "version": "3.8.5"
  }
 },
 "nbformat": 4,
 "nbformat_minor": 4
}
